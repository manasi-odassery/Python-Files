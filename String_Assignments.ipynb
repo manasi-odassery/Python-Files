{
 "cells": [
  {
   "cell_type": "markdown",
   "id": "0ae86bc8",
   "metadata": {},
   "source": [
    "Q1"
   ]
  },
  {
   "cell_type": "code",
   "execution_count": 2,
   "id": "ba970a48",
   "metadata": {},
   "outputs": [],
   "source": [
    "ipstring = \"Tutor Joes\"\n",
    "lenstring = len(ipstring)"
   ]
  },
  {
   "cell_type": "code",
   "execution_count": 3,
   "id": "edae247c",
   "metadata": {},
   "outputs": [
    {
     "name": "stdout",
     "output_type": "stream",
     "text": [
      "Tutor Joes\n",
      "Length of String = 10\n"
     ]
    }
   ],
   "source": [
    "print(ipstring)\n",
    "print(\"Length of String =\", lenstring)"
   ]
  },
  {
   "cell_type": "markdown",
   "id": "fccb7852",
   "metadata": {},
   "source": [
    "Q2"
   ]
  },
  {
   "cell_type": "code",
   "execution_count": 4,
   "id": "1b869fd7",
   "metadata": {},
   "outputs": [],
   "source": [
    "input_string = \"tutorjoes\"\n",
    "char_frequency = {}"
   ]
  },
  {
   "cell_type": "code",
   "execution_count": 5,
   "id": "0d9261b5",
   "metadata": {},
   "outputs": [
    {
     "name": "stdout",
     "output_type": "stream",
     "text": [
      "{'t': 2, 'u': 1, 'o': 2, 'r': 1, 'j': 1, 'e': 1, 's': 1}\n"
     ]
    }
   ],
   "source": [
    "for char in input_string:\n",
    "    if char in char_frequency:\n",
    "        char_frequency[char] += 1\n",
    "    else:\n",
    "        char_frequency[char] = 1\n",
    "\n",
    "print(char_frequency)"
   ]
  },
  {
   "cell_type": "markdown",
   "id": "36ca7e15",
   "metadata": {},
   "source": [
    "Q3"
   ]
  },
  {
   "cell_type": "code",
   "execution_count": 6,
   "id": "908b51a6",
   "metadata": {},
   "outputs": [],
   "source": [
    "input_string = \"tutor joes\"\n",
    "first_char = input_string[0]"
   ]
  },
  {
   "cell_type": "code",
   "execution_count": 7,
   "id": "916b6c9b",
   "metadata": {},
   "outputs": [
    {
     "name": "stdout",
     "output_type": "stream",
     "text": [
      "Given String = tutor joes\n",
      "After String = tu@or joes\n"
     ]
    }
   ],
   "source": [
    "modified_string = first_char + input_string[1:].replace(first_char, '@')\n",
    "\n",
    "print(\"Given String =\", input_string)\n",
    "print(\"After String =\", modified_string)"
   ]
  },
  {
   "cell_type": "markdown",
   "id": "fe99306d",
   "metadata": {},
   "source": [
    "Q4"
   ]
  },
  {
   "cell_type": "code",
   "execution_count": 8,
   "id": "1123ee8c",
   "metadata": {},
   "outputs": [
    {
     "name": "stdout",
     "output_type": "stream",
     "text": [
      "Before Swap = abc xyz\n"
     ]
    }
   ],
   "source": [
    "string1 = \"abc\"\n",
    "string2 = \"xyz\"\n",
    "\n",
    "print(\"Before Swap =\", string1 + \" \" + string2)"
   ]
  },
  {
   "cell_type": "code",
   "execution_count": 9,
   "id": "c3284a16",
   "metadata": {},
   "outputs": [
    {
     "name": "stdout",
     "output_type": "stream",
     "text": [
      "After Swap = xycabz\n"
     ]
    }
   ],
   "source": [
    "swapped_string1 = string2[:2] + string1[2:]\n",
    "swapped_string2 = string1[:2] + string2[2:]\n",
    "\n",
    "print(\"After Swap =\", swapped_string1 + swapped_string2)"
   ]
  },
  {
   "cell_type": "markdown",
   "id": "bd4e0968",
   "metadata": {},
   "source": [
    "Q5"
   ]
  },
  {
   "cell_type": "code",
   "execution_count": 10,
   "id": "8e285060",
   "metadata": {},
   "outputs": [
    {
     "name": "stdout",
     "output_type": "stream",
     "text": [
      "Before Remove = Tutor Joes\n"
     ]
    }
   ],
   "source": [
    "input_string = \"Tutor Joes\"\n",
    "index_to_remove = 0\n",
    "\n",
    "print(\"Before Remove =\", input_string)"
   ]
  },
  {
   "cell_type": "code",
   "execution_count": 11,
   "id": "af0f5dc1",
   "metadata": {},
   "outputs": [
    {
     "name": "stdout",
     "output_type": "stream",
     "text": [
      "Remove character = T\n",
      "After Remove = utor Joes\n"
     ]
    }
   ],
   "source": [
    "if index_to_remove < len(input_string):\n",
    "    modified_string = input_string[:index_to_remove] + input_string[index_to_remove+1:]\n",
    "else:\n",
    "    modified_string = input_string\n",
    "\n",
    "print(\"Remove character =\", input_string[index_to_remove])\n",
    "print(\"After Remove =\", modified_string)"
   ]
  },
  {
   "cell_type": "markdown",
   "id": "67a24993",
   "metadata": {},
   "source": [
    "Q6"
   ]
  },
  {
   "cell_type": "code",
   "execution_count": 12,
   "id": "71c7a416",
   "metadata": {},
   "outputs": [
    {
     "name": "stdout",
     "output_type": "stream",
     "text": [
      "Before Exchange = Python\n"
     ]
    }
   ],
   "source": [
    "input_string = \"Python\"\n",
    "print(\"Before Exchange =\", input_string)"
   ]
  },
  {
   "cell_type": "code",
   "execution_count": 13,
   "id": "eb233e07",
   "metadata": {},
   "outputs": [
    {
     "name": "stdout",
     "output_type": "stream",
     "text": [
      "After Exchange = nythoP\n"
     ]
    }
   ],
   "source": [
    "if len(input_string) > 1:\n",
    "    modified_string = input_string[-1] + input_string[1:-1] + input_string[0]\n",
    "else:\n",
    "    modified_string = input_string\n",
    "\n",
    "print(\"After Exchange =\", modified_string)"
   ]
  },
  {
   "cell_type": "markdown",
   "id": "cd006dec",
   "metadata": {},
   "source": [
    "Q7"
   ]
  },
  {
   "cell_type": "code",
   "execution_count": 14,
   "id": "d632b2a8",
   "metadata": {},
   "outputs": [
    {
     "name": "stdout",
     "output_type": "stream",
     "text": [
      "String = Computer Education\n",
      "Remove Odd Index Char = Cmue dcto\n"
     ]
    }
   ],
   "source": [
    "input_string = \"Computer Education\"\n",
    "print(\"String =\", input_string)\n",
    "\n",
    "modified_string = input_string[::2]\n",
    "print(\"Remove Odd Index Char =\", modified_string)"
   ]
  },
  {
   "cell_type": "markdown",
   "id": "6a65cca5",
   "metadata": {},
   "source": [
    "Q8"
   ]
  },
  {
   "cell_type": "code",
   "execution_count": 15,
   "id": "88f760ce",
   "metadata": {},
   "outputs": [],
   "source": [
    "input_string = \"To change the overall look your document. To change the look available in the gallery\"\n",
    "\n",
    "words = input_string.split()\n",
    "word_count = {}"
   ]
  },
  {
   "cell_type": "code",
   "execution_count": 16,
   "id": "3e60d3ab",
   "metadata": {},
   "outputs": [
    {
     "name": "stdout",
     "output_type": "stream",
     "text": [
      "{'To': 2, 'change': 2, 'the': 3, 'overall': 1, 'look': 2, 'your': 1, 'document.': 1, 'available': 1, 'in': 1, 'gallery': 1}\n"
     ]
    }
   ],
   "source": [
    "for word in words:\n",
    "    if word in word_count:\n",
    "        word_count[word] += 1\n",
    "    else:\n",
    "        word_count[word] = 1\n",
    "\n",
    "print(word_count)"
   ]
  },
  {
   "cell_type": "markdown",
   "id": "c1da09d7",
   "metadata": {},
   "source": [
    "Q9"
   ]
  },
  {
   "cell_type": "code",
   "execution_count": 17,
   "id": "6afba90d",
   "metadata": {},
   "outputs": [
    {
     "name": "stdout",
     "output_type": "stream",
     "text": [
      "Enter the String = Jack and Jill\n",
      "Uppercase = JACK AND JILL\n",
      "Lowercase = jack and jill\n"
     ]
    }
   ],
   "source": [
    "input_string = input(\"Enter the String = \")\n",
    "\n",
    "print(\"Uppercase =\", input_string.upper())\n",
    "print(\"Lowercase =\", input_string.lower())"
   ]
  },
  {
   "cell_type": "markdown",
   "id": "839a9048",
   "metadata": {},
   "source": [
    "Q10"
   ]
  },
  {
   "cell_type": "code",
   "execution_count": 18,
   "id": "749c3e8a",
   "metadata": {},
   "outputs": [],
   "source": [
    "def reverse_if_multiple_of_four(s):\n",
    "    if len(s) % 4 == 0:\n",
    "        return s[::-1]\n",
    "    return s"
   ]
  },
  {
   "cell_type": "code",
   "execution_count": 19,
   "id": "8ef60108",
   "metadata": {},
   "outputs": [
    {
     "name": "stdout",
     "output_type": "stream",
     "text": [
      "Enter the String = Jill and Jack\n",
      "Result = Jill and Jack\n"
     ]
    }
   ],
   "source": [
    "input_string = input(\"Enter the String = \")\n",
    "result = reverse_if_multiple_of_four(input_string)\n",
    "print(\"Result =\", result)"
   ]
  },
  {
   "cell_type": "markdown",
   "id": "98daf5ab",
   "metadata": {},
   "source": [
    "Q11"
   ]
  },
  {
   "cell_type": "code",
   "execution_count": 20,
   "id": "ee63efc1",
   "metadata": {},
   "outputs": [],
   "source": [
    "def convert_if_two_uppercase(s):\n",
    "    if len(s) >= 4 and sum(1 for char in s[:4] if char.isupper()) >= 2:\n",
    "        return s.upper()\n",
    "    return s"
   ]
  },
  {
   "cell_type": "code",
   "execution_count": 21,
   "id": "9c8109ff",
   "metadata": {},
   "outputs": [
    {
     "name": "stdout",
     "output_type": "stream",
     "text": [
      "Enter the String = Science\n",
      "Result = Science\n"
     ]
    }
   ],
   "source": [
    "input_string = input(\"Enter the String = \")\n",
    "result = convert_if_two_uppercase(input_string)\n",
    "print(\"Result =\", result)"
   ]
  },
  {
   "cell_type": "markdown",
   "id": "f9ef0a0b",
   "metadata": {},
   "source": [
    "Q12"
   ]
  },
  {
   "cell_type": "code",
   "execution_count": 22,
   "id": "5faf0e82",
   "metadata": {},
   "outputs": [
    {
     "name": "stdout",
     "output_type": "stream",
     "text": [
      "Enter the String = Jack and Bill\n",
      "[' ', ' ', 'B', 'J', 'a', 'a', 'c', 'd', 'i', 'k', 'l', 'l', 'n']\n"
     ]
    }
   ],
   "source": [
    "input_string = input(\"Enter the String = \")\n",
    "sorted_string = sorted(input_string)\n",
    "\n",
    "print(sorted_string)"
   ]
  },
  {
   "cell_type": "markdown",
   "id": "62797577",
   "metadata": {},
   "source": [
    "Q13"
   ]
  },
  {
   "cell_type": "code",
   "execution_count": 23,
   "id": "14159f63",
   "metadata": {},
   "outputs": [
    {
     "name": "stdout",
     "output_type": "stream",
     "text": [
      "Before Remove NewLine(\\n)\n",
      "\n",
      "Tutor\n",
      "Joes\n",
      "Computer\n",
      "Education\n",
      "\n",
      "After Remove NewLine(\\n) = Tutor Joes Computer Education\n"
     ]
    }
   ],
   "source": [
    "input_string = \"\\nTutor\\nJoes\\nComputer\\nEducation\\n\"\n",
    "print(\"Before Remove NewLine(\\\\n)\")\n",
    "print(input_string)\n",
    "\n",
    "modified_string = input_string.replace('\\n', ' ')\n",
    "print(\"After Remove NewLine(\\\\n) =\", modified_string.strip())"
   ]
  },
  {
   "cell_type": "markdown",
   "id": "447e8fec",
   "metadata": {},
   "source": [
    "Q14"
   ]
  },
  {
   "cell_type": "code",
   "execution_count": 24,
   "id": "97f065a1",
   "metadata": {},
   "outputs": [],
   "source": [
    "input_string = \"Tutor Joes Computer Education\"\n",
    "prefix = \"Tu\""
   ]
  },
  {
   "cell_type": "code",
   "execution_count": 25,
   "id": "90ecddc9",
   "metadata": {},
   "outputs": [
    {
     "name": "stdout",
     "output_type": "stream",
     "text": [
      "Tutor Joes Computer Education\n",
      "Prefix to check = Tu\n",
      "Check if the input string starts with the prefix = True\n"
     ]
    }
   ],
   "source": [
    "result = input_string.startswith(prefix)\n",
    "\n",
    "print(\"Tutor Joes Computer Education\")\n",
    "print(\"Prefix to check =\", prefix)\n",
    "print(\"Check if the input string starts with the prefix =\", result)"
   ]
  },
  {
   "cell_type": "markdown",
   "id": "257c4599",
   "metadata": {},
   "source": [
    "Q15"
   ]
  },
  {
   "cell_type": "code",
   "execution_count": 26,
   "id": "2ead4c27",
   "metadata": {},
   "outputs": [],
   "source": [
    "import textwrap"
   ]
  },
  {
   "cell_type": "code",
   "execution_count": 27,
   "id": "166f08a3",
   "metadata": {},
   "outputs": [
    {
     "name": "stdout",
     "output_type": "stream",
     "text": [
      "Original Text:\n",
      "Python is an interpreted, object-oriented, high-level programming language that can be used for a wide variety of applications. Python is a powerful general-purpose programming language.\n",
      "\n"
     ]
    }
   ],
   "source": [
    "text = \"Python is an interpreted, object-oriented, high-level programming language that can be used for a wide variety of applications. Python is a powerful general-purpose programming language.\"\n",
    "\n",
    "print(\"Original Text:\")\n",
    "print(text)\n",
    "print()"
   ]
  },
  {
   "cell_type": "code",
   "execution_count": 28,
   "id": "e07b4eb3",
   "metadata": {},
   "outputs": [
    {
     "name": "stdout",
     "output_type": "stream",
     "text": [
      "Formatted Text (Width 35):\n",
      "Python is an interpreted, object-\n",
      "oriented, high-level programming\n",
      "language that can be used for a\n",
      "wide variety of applications.\n",
      "Python is a powerful general-\n",
      "purpose programming language.\n",
      "\n",
      "Formatted Text (Width 70):\n",
      "Python is an interpreted, object-oriented, high-level programming\n",
      "language that can be used for a wide variety of applications. Python\n",
      "is a powerful general-purpose programming language.\n",
      "\n"
     ]
    }
   ],
   "source": [
    "widths = [35, 70]\n",
    "\n",
    "for w in widths:\n",
    "    print(f\"Formatted Text (Width {w}):\")\n",
    "    formatted_text = textwrap.fill(text, width=w)\n",
    "    print(formatted_text)\n",
    "    print()"
   ]
  },
  {
   "cell_type": "markdown",
   "id": "5b14ff84",
   "metadata": {},
   "source": [
    "Q16"
   ]
  },
  {
   "cell_type": "code",
   "execution_count": 29,
   "id": "ce0b0c1f",
   "metadata": {},
   "outputs": [],
   "source": [
    "import textwrap"
   ]
  },
  {
   "cell_type": "code",
   "execution_count": 30,
   "id": "9cc32b19",
   "metadata": {},
   "outputs": [
    {
     "name": "stdout",
     "output_type": "stream",
     "text": [
      "Original text:\n",
      "\n",
      "    Python is an interpreted, object-oriented, high-level programming language\n",
      "    that can be used for a wide variety of applications. Python is a powerful\n",
      "    general-purpose programming language.\n",
      "\n",
      "\n"
     ]
    }
   ],
   "source": [
    "text = \"\"\"\n",
    "    Python is an interpreted, object-oriented, high-level programming language\n",
    "    that can be used for a wide variety of applications. Python is a powerful\n",
    "    general-purpose programming language.\n",
    "\"\"\"\n",
    "\n",
    "print(\"Original text:\")\n",
    "print(text)\n",
    "print()"
   ]
  },
  {
   "cell_type": "code",
   "execution_count": 31,
   "id": "f2ca2a97",
   "metadata": {},
   "outputs": [
    {
     "name": "stdout",
     "output_type": "stream",
     "text": [
      "Dedented text:\n",
      "\n",
      "Python is an interpreted, object-oriented, high-level programming language\n",
      "that can be used for a wide variety of applications. Python is a powerful\n",
      "general-purpose programming language.\n",
      "\n"
     ]
    }
   ],
   "source": [
    "dedented_text = textwrap.dedent(text)\n",
    "\n",
    "print(\"Dedented text:\")\n",
    "print(dedented_text)"
   ]
  },
  {
   "cell_type": "markdown",
   "id": "da0efdb5",
   "metadata": {},
   "source": [
    "Q17"
   ]
  },
  {
   "cell_type": "code",
   "execution_count": 32,
   "id": "974b1c6f",
   "metadata": {},
   "outputs": [],
   "source": [
    "text = \"\"\"Python is an interpreted, object-oriented, high-level programming language\n",
    "that can be used for a wide variety of applications. Python is a powerful\n",
    "general-purpose programming language.\"\"\"\n",
    "\n",
    "prefix = \"* \""
   ]
  },
  {
   "cell_type": "code",
   "execution_count": 33,
   "id": "f3e410ba",
   "metadata": {},
   "outputs": [
    {
     "name": "stdout",
     "output_type": "stream",
     "text": [
      "Text:\n",
      "Python is an interpreted, object-oriented, high-level programming language\n",
      "that can be used for a wide variety of applications. Python is a powerful\n",
      "general-purpose programming language.\n",
      "\n",
      "Prefix to add to each line = * \n",
      "\n",
      "Display the Result:\n",
      "* Python is an interpreted, object-oriented, high-level programming language\n",
      "* that can be used for a wide variety of applications. Python is a powerful\n",
      "* general-purpose programming language.\n"
     ]
    }
   ],
   "source": [
    "modified_text = '\\n'.join(prefix + line for line in text.split('\\n'))\n",
    "\n",
    "print(\"Text:\")\n",
    "print(text)\n",
    "print(\"\\nPrefix to add to each line =\", prefix)\n",
    "print(\"\\nDisplay the Result:\")\n",
    "print(modified_text)"
   ]
  }
 ],
 "metadata": {
  "kernelspec": {
   "display_name": "Python 3 (ipykernel)",
   "language": "python",
   "name": "python3"
  },
  "language_info": {
   "codemirror_mode": {
    "name": "ipython",
    "version": 3
   },
   "file_extension": ".py",
   "mimetype": "text/x-python",
   "name": "python",
   "nbconvert_exporter": "python",
   "pygments_lexer": "ipython3",
   "version": "3.11.4"
  }
 },
 "nbformat": 4,
 "nbformat_minor": 5
}
