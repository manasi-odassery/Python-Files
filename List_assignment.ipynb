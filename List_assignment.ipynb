{
 "cells": [
  {
   "cell_type": "markdown",
   "id": "8c82dcdf",
   "metadata": {},
   "source": [
    "Q1"
   ]
  },
  {
   "cell_type": "code",
   "execution_count": 1,
   "id": "4feba0b6",
   "metadata": {},
   "outputs": [],
   "source": [
    "num = [1, 7, -10, 34, 2, -8]"
   ]
  },
  {
   "cell_type": "code",
   "execution_count": 2,
   "id": "295e07e8",
   "metadata": {},
   "outputs": [],
   "source": [
    "total_sum = sum(num)"
   ]
  },
  {
   "cell_type": "code",
   "execution_count": 3,
   "id": "4e684c42",
   "metadata": {},
   "outputs": [
    {
     "name": "stdout",
     "output_type": "stream",
     "text": [
      "Sum all the items = 26\n"
     ]
    }
   ],
   "source": [
    "print(\"Sum all the items =\", total_sum)"
   ]
  },
  {
   "cell_type": "markdown",
   "id": "14a171d5",
   "metadata": {},
   "source": [
    "Q2"
   ]
  },
  {
   "cell_type": "code",
   "execution_count": 4,
   "id": "3e06781a",
   "metadata": {},
   "outputs": [],
   "source": [
    "from functools import reduce"
   ]
  },
  {
   "cell_type": "code",
   "execution_count": 5,
   "id": "f4c2088f",
   "metadata": {},
   "outputs": [],
   "source": [
    "numbers = [3, 4, 5, 4, 7]"
   ]
  },
  {
   "cell_type": "code",
   "execution_count": 6,
   "id": "fcad8b4f",
   "metadata": {},
   "outputs": [],
   "source": [
    "def multiply_list(items):\n",
    "    return reduce(lambda x, y: x * y, items)"
   ]
  },
  {
   "cell_type": "code",
   "execution_count": 7,
   "id": "1a7ed1c1",
   "metadata": {},
   "outputs": [
    {
     "name": "stdout",
     "output_type": "stream",
     "text": [
      "Multiply all the items in a list: 1680\n"
     ]
    }
   ],
   "source": [
    "result = multiply_list(numbers)\n",
    "print(\"Multiply all the items in a list:\", result)"
   ]
  },
  {
   "cell_type": "markdown",
   "id": "7d121f3e",
   "metadata": {},
   "source": [
    "Q3"
   ]
  },
  {
   "cell_type": "code",
   "execution_count": 8,
   "id": "eb719949",
   "metadata": {},
   "outputs": [],
   "source": [
    "numbers = [1, 7, 10, 34, 2, 8]"
   ]
  },
  {
   "cell_type": "code",
   "execution_count": 9,
   "id": "4aa79bbe",
   "metadata": {},
   "outputs": [
    {
     "name": "stdout",
     "output_type": "stream",
     "text": [
      "Largest Number: 34\n"
     ]
    }
   ],
   "source": [
    "largest_number = max(numbers)\n",
    "print(\"Largest Number:\", largest_number)"
   ]
  },
  {
   "cell_type": "markdown",
   "id": "cfc27a82",
   "metadata": {},
   "source": [
    "Q4"
   ]
  },
  {
   "cell_type": "code",
   "execution_count": 10,
   "id": "24546a53",
   "metadata": {},
   "outputs": [],
   "source": [
    "numbers = [5, 1, 7, 10, 34, 2, 8]"
   ]
  },
  {
   "cell_type": "code",
   "execution_count": 11,
   "id": "2001b155",
   "metadata": {},
   "outputs": [
    {
     "name": "stdout",
     "output_type": "stream",
     "text": [
      "Smallest Number: 1\n"
     ]
    }
   ],
   "source": [
    "smallest_number = min(numbers)\n",
    "print(\"Smallest Number:\", smallest_number)"
   ]
  },
  {
   "cell_type": "markdown",
   "id": "e5a951b4",
   "metadata": {},
   "source": [
    "Q5"
   ]
  },
  {
   "cell_type": "code",
   "execution_count": 12,
   "id": "a635ea42",
   "metadata": {},
   "outputs": [],
   "source": [
    "strings = ['abc', 'xyz', 'aba', '1221']"
   ]
  },
  {
   "cell_type": "code",
   "execution_count": 13,
   "id": "87734006",
   "metadata": {},
   "outputs": [],
   "source": [
    "def count_matching_strings(strings):\n",
    "    count = 0\n",
    "    for s in strings:\n",
    "        if len(s) >= 2 and s[0] == s[-1]:\n",
    "            count += 1\n",
    "    return count"
   ]
  },
  {
   "cell_type": "code",
   "execution_count": 14,
   "id": "640248cc",
   "metadata": {},
   "outputs": [
    {
     "name": "stdout",
     "output_type": "stream",
     "text": [
      "First and Last Character are same: 2\n"
     ]
    }
   ],
   "source": [
    "result = count_matching_strings(strings)\n",
    "print(\"First and Last Character are same:\", result)"
   ]
  },
  {
   "cell_type": "markdown",
   "id": "f6e5217a",
   "metadata": {},
   "source": [
    "Q6"
   ]
  },
  {
   "cell_type": "code",
   "execution_count": 15,
   "id": "3fd7b52e",
   "metadata": {},
   "outputs": [],
   "source": [
    "numbers = [1, 2, 3, 7, 2, 1, 5, 6, 4, 8, 5, 4]"
   ]
  },
  {
   "cell_type": "code",
   "execution_count": 16,
   "id": "82695b39",
   "metadata": {},
   "outputs": [],
   "source": [
    "def remove_duplicates(lst):\n",
    "    seen = set()\n",
    "    result = []\n",
    "    for number in lst:\n",
    "        if number not in seen:\n",
    "            seen.add(number)\n",
    "            result.append(number)\n",
    "    return result"
   ]
  },
  {
   "cell_type": "code",
   "execution_count": 17,
   "id": "a4131840",
   "metadata": {},
   "outputs": [
    {
     "name": "stdout",
     "output_type": "stream",
     "text": [
      "[1, 2, 3, 7, 5, 6, 4, 8]\n"
     ]
    }
   ],
   "source": [
    "unique_numbers = remove_duplicates(numbers)\n",
    "print(unique_numbers)"
   ]
  },
  {
   "cell_type": "markdown",
   "id": "fe2d1259",
   "metadata": {},
   "source": [
    "Q7"
   ]
  },
  {
   "cell_type": "code",
   "execution_count": 18,
   "id": "f81b3a9c",
   "metadata": {},
   "outputs": [],
   "source": [
    "numbers = [34, 45, 6, 5, 4, 56, 7]"
   ]
  },
  {
   "cell_type": "code",
   "execution_count": 19,
   "id": "23f6a426",
   "metadata": {},
   "outputs": [],
   "source": [
    "def is_list_empty(lst):\n",
    "    return \"List is Empty\" if not lst else \"List is Not Empty\""
   ]
  },
  {
   "cell_type": "code",
   "execution_count": 20,
   "id": "a0d265d0",
   "metadata": {},
   "outputs": [
    {
     "name": "stdout",
     "output_type": "stream",
     "text": [
      "List is Not Empty\n"
     ]
    }
   ],
   "source": [
    "result = is_list_empty(numbers)\n",
    "print(result)"
   ]
  },
  {
   "cell_type": "markdown",
   "id": "4719b125",
   "metadata": {},
   "source": [
    "Q8"
   ]
  },
  {
   "cell_type": "code",
   "execution_count": 21,
   "id": "a7ad1b27",
   "metadata": {},
   "outputs": [],
   "source": [
    "original_list = [10, 22, 44, 23, 4]"
   ]
  },
  {
   "cell_type": "code",
   "execution_count": 22,
   "id": "f51fbcd2",
   "metadata": {},
   "outputs": [],
   "source": [
    "cloned_list = original_list[:]"
   ]
  },
  {
   "cell_type": "code",
   "execution_count": 23,
   "id": "991ae162",
   "metadata": {},
   "outputs": [
    {
     "name": "stdout",
     "output_type": "stream",
     "text": [
      "Original List: [10, 22, 44, 23, 4]\n",
      "Clone or Copy a List: [10, 22, 44, 23, 4]\n"
     ]
    }
   ],
   "source": [
    "print(\"Original List:\", original_list)\n",
    "print(\"Clone or Copy a List:\", cloned_list)"
   ]
  },
  {
   "cell_type": "markdown",
   "id": "e657918f",
   "metadata": {},
   "source": [
    "Q9"
   ]
  },
  {
   "cell_type": "code",
   "execution_count": 24,
   "id": "6e90ae11",
   "metadata": {},
   "outputs": [],
   "source": [
    "words = [\"Find\", \"the\", \"List\", \"of\", \"Words\", \"that\", \"are\", \"Longer\", \"than\", \"n\", \"from\", \"a\", \"given\", \"List\", \"of\", \"Words\"]"
   ]
  },
  {
   "cell_type": "code",
   "execution_count": 25,
   "id": "d97e0f2c",
   "metadata": {},
   "outputs": [],
   "source": [
    "n = 4"
   ]
  },
  {
   "cell_type": "code",
   "execution_count": 26,
   "id": "6658c356",
   "metadata": {},
   "outputs": [],
   "source": [
    "longer_words = [word for word in words if len(word) > n]"
   ]
  },
  {
   "cell_type": "code",
   "execution_count": 27,
   "id": "544bd4a0",
   "metadata": {},
   "outputs": [
    {
     "name": "stdout",
     "output_type": "stream",
     "text": [
      "Find the List of Words that are Longer than n from a given List of Words\n",
      "Given value of n = 4\n",
      "['Words', 'Longer', 'given', 'Words']\n"
     ]
    }
   ],
   "source": [
    "print(\"Find the List of Words that are Longer than n from a given List of Words\")\n",
    "print(\"Given value of n =\", n)\n",
    "print(longer_words)"
   ]
  },
  {
   "cell_type": "markdown",
   "id": "534f1fdf",
   "metadata": {},
   "source": [
    "Q10"
   ]
  },
  {
   "cell_type": "code",
   "execution_count": 28,
   "id": "bdf22f9b",
   "metadata": {},
   "outputs": [],
   "source": [
    "list1 = [1, 2, 3, 4, 5]\n",
    "list2 = [5, 6, 7, 8, 9]"
   ]
  },
  {
   "cell_type": "code",
   "execution_count": 29,
   "id": "cf7b9668",
   "metadata": {},
   "outputs": [],
   "source": [
    "def have_common_member(l1, l2):\n",
    "    return \"Lists have at least one common member\" if set(l1) & set(l2) else \"Lists have no common members\""
   ]
  },
  {
   "cell_type": "code",
   "execution_count": 30,
   "id": "dcbed8dd",
   "metadata": {},
   "outputs": [
    {
     "name": "stdout",
     "output_type": "stream",
     "text": [
      "Lists have at least one common member\n"
     ]
    }
   ],
   "source": [
    "result = have_common_member(list1, list2)\n",
    "print(result)"
   ]
  },
  {
   "cell_type": "markdown",
   "id": "5baf5ab7",
   "metadata": {},
   "source": [
    "Q11"
   ]
  },
  {
   "cell_type": "code",
   "execution_count": 31,
   "id": "6a787fa4",
   "metadata": {},
   "outputs": [],
   "source": [
    "animals = [\"Cat\", \"Dog\", \"Elephant\", \"Fox\", \"Tiger\", \"Lion\", \"Ponda\"]"
   ]
  },
  {
   "cell_type": "code",
   "execution_count": 32,
   "id": "6aa73039",
   "metadata": {},
   "outputs": [],
   "source": [
    "indices_to_remove = {0, 4, 5}"
   ]
  },
  {
   "cell_type": "code",
   "execution_count": 33,
   "id": "05b65581",
   "metadata": {},
   "outputs": [
    {
     "name": "stdout",
     "output_type": "stream",
     "text": [
      "['Dog', 'Elephant', 'Fox', 'Ponda']\n"
     ]
    }
   ],
   "source": [
    "filtered_animals = [animal for index, animal in enumerate(animals) if index not in indices_to_remove]\n",
    "print(filtered_animals)"
   ]
  },
  {
   "cell_type": "markdown",
   "id": "e5499c7e",
   "metadata": {},
   "source": [
    "Q12"
   ]
  },
  {
   "cell_type": "code",
   "execution_count": 34,
   "id": "d2802183",
   "metadata": {},
   "outputs": [],
   "source": [
    "numbers = [7, 32, 81, 20, 25, 14, 23, 27]"
   ]
  },
  {
   "cell_type": "code",
   "execution_count": 35,
   "id": "4e6d93a5",
   "metadata": {},
   "outputs": [
    {
     "name": "stdout",
     "output_type": "stream",
     "text": [
      "[7, 81, 25, 23, 27]\n"
     ]
    }
   ],
   "source": [
    "filtered_numbers = [num for num in numbers if num % 2 != 0]\n",
    "print(filtered_numbers)"
   ]
  },
  {
   "cell_type": "markdown",
   "id": "518d7d43",
   "metadata": {},
   "source": [
    "Q13"
   ]
  },
  {
   "cell_type": "code",
   "execution_count": 36,
   "id": "5a93b251",
   "metadata": {},
   "outputs": [],
   "source": [
    "import random"
   ]
  },
  {
   "cell_type": "code",
   "execution_count": 37,
   "id": "834f1ea9",
   "metadata": {},
   "outputs": [],
   "source": [
    "animals = [\"Cat\", \"Dog\", \"Elephant\", \"Fox\", \"Tiger\", \"Lion\", \"Ponda\"]"
   ]
  },
  {
   "cell_type": "code",
   "execution_count": 38,
   "id": "25a5571c",
   "metadata": {},
   "outputs": [
    {
     "name": "stdout",
     "output_type": "stream",
     "text": [
      "['Lion', 'Cat', 'Elephant', 'Fox', 'Dog', 'Ponda', 'Tiger']\n"
     ]
    }
   ],
   "source": [
    "random.shuffle(animals)\n",
    "print(animals)"
   ]
  },
  {
   "cell_type": "markdown",
   "id": "eb45137e",
   "metadata": {},
   "source": [
    "Q14"
   ]
  },
  {
   "cell_type": "code",
   "execution_count": 39,
   "id": "940fafda",
   "metadata": {},
   "outputs": [],
   "source": [
    "squares = [i**2 for i in range(1, 31)]"
   ]
  },
  {
   "cell_type": "code",
   "execution_count": 40,
   "id": "9395daee",
   "metadata": {},
   "outputs": [],
   "source": [
    "first_five = squares[:5]\n",
    "last_five = squares[-5:]"
   ]
  },
  {
   "cell_type": "code",
   "execution_count": 41,
   "id": "8aa3cc58",
   "metadata": {},
   "outputs": [
    {
     "name": "stdout",
     "output_type": "stream",
     "text": [
      "First 5 elements: [1, 4, 9, 16, 25]\n",
      "Last 5 elements: [676, 729, 784, 841, 900]\n"
     ]
    }
   ],
   "source": [
    "print(\"First 5 elements:\", first_five)\n",
    "print(\"Last 5 elements:\", last_five)"
   ]
  },
  {
   "cell_type": "markdown",
   "id": "ca07aa31",
   "metadata": {},
   "source": [
    "Q15"
   ]
  },
  {
   "cell_type": "code",
   "execution_count": 42,
   "id": "5189f40b",
   "metadata": {},
   "outputs": [],
   "source": [
    "import itertools"
   ]
  },
  {
   "cell_type": "code",
   "execution_count": 43,
   "id": "56709bc1",
   "metadata": {},
   "outputs": [],
   "source": [
    "numbers = [1, 2, 3]"
   ]
  },
  {
   "cell_type": "code",
   "execution_count": 44,
   "id": "0522d230",
   "metadata": {},
   "outputs": [
    {
     "name": "stdout",
     "output_type": "stream",
     "text": [
      "[(1, 2, 3), (1, 3, 2), (2, 1, 3), (2, 3, 1), (3, 1, 2), (3, 2, 1)]\n"
     ]
    }
   ],
   "source": [
    "permutations = list(itertools.permutations(numbers))\n",
    "print(permutations)"
   ]
  },
  {
   "cell_type": "markdown",
   "id": "d9e2cac7",
   "metadata": {},
   "source": [
    "Q16"
   ]
  },
  {
   "cell_type": "code",
   "execution_count": 45,
   "id": "b20ffa3f",
   "metadata": {},
   "outputs": [],
   "source": [
    "characters = ['T', 'u', 't', 'o', 'r', ' ', 'J', 'o', 'e', 's']"
   ]
  },
  {
   "cell_type": "code",
   "execution_count": 46,
   "id": "9c5af299",
   "metadata": {},
   "outputs": [
    {
     "name": "stdout",
     "output_type": "stream",
     "text": [
      "Tutor Joes\n"
     ]
    }
   ],
   "source": [
    "resulting_string = ''.join(characters)\n",
    "print(resulting_string)"
   ]
  },
  {
   "cell_type": "markdown",
   "id": "72bee4c0",
   "metadata": {},
   "source": [
    "Q17"
   ]
  },
  {
   "cell_type": "code",
   "execution_count": 47,
   "id": "1dc09cdf",
   "metadata": {},
   "outputs": [],
   "source": [
    "numbers = [20, 70, 30, 90, 10, 30, 90, 10, 80]"
   ]
  },
  {
   "cell_type": "code",
   "execution_count": 48,
   "id": "dbacd4cb",
   "metadata": {},
   "outputs": [],
   "source": [
    "item_to_find = 30"
   ]
  },
  {
   "cell_type": "code",
   "execution_count": 49,
   "id": "b84570fc",
   "metadata": {},
   "outputs": [
    {
     "name": "stdout",
     "output_type": "stream",
     "text": [
      "Index Number of Item = 2\n"
     ]
    }
   ],
   "source": [
    "index_number = numbers.index(item_to_find)\n",
    "print(\"Index Number of Item =\", index_number)"
   ]
  },
  {
   "cell_type": "markdown",
   "id": "f713e3b6",
   "metadata": {},
   "source": [
    "Q18"
   ]
  },
  {
   "cell_type": "code",
   "execution_count": 50,
   "id": "03326e52",
   "metadata": {},
   "outputs": [],
   "source": [
    "nested_list = [[20, 30, 70], [30, 90, 10], [30, 20], [70, 90, 10, 80]]"
   ]
  },
  {
   "cell_type": "code",
   "execution_count": 51,
   "id": "3fee537c",
   "metadata": {},
   "outputs": [
    {
     "name": "stdout",
     "output_type": "stream",
     "text": [
      "[20, 30, 70, 30, 90, 10, 30, 20, 70, 90, 10, 80]\n"
     ]
    }
   ],
   "source": [
    "flattened_list = [item for sublist in nested_list for item in sublist]\n",
    "print(flattened_list)"
   ]
  },
  {
   "cell_type": "markdown",
   "id": "6829a85d",
   "metadata": {},
   "source": [
    "Q19"
   ]
  },
  {
   "cell_type": "code",
   "execution_count": 52,
   "id": "d7059400",
   "metadata": {},
   "outputs": [],
   "source": [
    "first_list = [10, 20, 30, 40]\n",
    "second_list = ['Cat', 'Dog', 'Lion', 'Ponda']"
   ]
  },
  {
   "cell_type": "code",
   "execution_count": 53,
   "id": "53f7d9c8",
   "metadata": {},
   "outputs": [
    {
     "name": "stdout",
     "output_type": "stream",
     "text": [
      "['Cat', 'Dog', 'Lion', 'Ponda', 10, 20, 30, 40]\n"
     ]
    }
   ],
   "source": [
    "second_list.extend(first_list)\n",
    "print(second_list)"
   ]
  },
  {
   "cell_type": "markdown",
   "id": "81b71a6d",
   "metadata": {},
   "source": [
    "Q20"
   ]
  },
  {
   "cell_type": "code",
   "execution_count": 54,
   "id": "625d3aa5",
   "metadata": {},
   "outputs": [],
   "source": [
    "import random"
   ]
  },
  {
   "cell_type": "code",
   "execution_count": 55,
   "id": "ecf035b8",
   "metadata": {},
   "outputs": [],
   "source": [
    "animals = [\"Cat\", \"Dog\", \"Elephant\", \"Fox\", \"Tiger\", \"Lion\", \"Ponda\"]"
   ]
  },
  {
   "cell_type": "code",
   "execution_count": 56,
   "id": "115c3069",
   "metadata": {},
   "outputs": [
    {
     "name": "stdout",
     "output_type": "stream",
     "text": [
      "Item randomly from a list: Cat\n"
     ]
    }
   ],
   "source": [
    "random_item = random.choice(animals)\n",
    "print(\"Item randomly from a list:\", random_item)"
   ]
  },
  {
   "cell_type": "markdown",
   "id": "e9aa9a24",
   "metadata": {},
   "source": [
    "Q21"
   ]
  },
  {
   "cell_type": "code",
   "execution_count": 57,
   "id": "9f34de17",
   "metadata": {},
   "outputs": [],
   "source": [
    "list1 = [8, 8, 12, 12, 8]\n",
    "list2 = [8, 8, 12, 12]\n",
    "list3 = [1, 8, 8, 12, 12]"
   ]
  },
  {
   "cell_type": "code",
   "execution_count": 58,
   "id": "92128fbe",
   "metadata": {},
   "outputs": [],
   "source": [
    "def are_circularly_identical(lst1, lst2):\n",
    "    return ' '.join(map(str, lst2)) in ' '.join(map(str, lst1 * 2))"
   ]
  },
  {
   "cell_type": "code",
   "execution_count": 59,
   "id": "a0bd6ab3",
   "metadata": {},
   "outputs": [],
   "source": [
    "result1 = are_circularly_identical(list1, list2)\n",
    "result2 = are_circularly_identical(list1, list3)"
   ]
  },
  {
   "cell_type": "code",
   "execution_count": 60,
   "id": "93215e34",
   "metadata": {},
   "outputs": [
    {
     "name": "stdout",
     "output_type": "stream",
     "text": [
      "Compare List1 and List2: True\n",
      "Compare List1 and List3: False\n"
     ]
    }
   ],
   "source": [
    "print(\"Compare List1 and List2:\", result1)\n",
    "print(\"Compare List1 and List3:\", result2)"
   ]
  },
  {
   "cell_type": "markdown",
   "id": "a43ef7c6",
   "metadata": {},
   "source": [
    "Q22"
   ]
  },
  {
   "cell_type": "code",
   "execution_count": 61,
   "id": "d888de0d",
   "metadata": {},
   "outputs": [],
   "source": [
    "numbers = [2, 4, 56, 78, 4, 34, 5, 8, 9]"
   ]
  },
  {
   "cell_type": "code",
   "execution_count": 62,
   "id": "c061f6d3",
   "metadata": {},
   "outputs": [],
   "source": [
    "unique_sorted_numbers = sorted(set(numbers))"
   ]
  },
  {
   "cell_type": "code",
   "execution_count": 63,
   "id": "177d6637",
   "metadata": {},
   "outputs": [],
   "source": [
    "if len(unique_sorted_numbers) >= 2:\n",
    "    second_smallest = unique_sorted_numbers[1]\n",
    "else:\n",
    "    second_smallest = None"
   ]
  },
  {
   "cell_type": "code",
   "execution_count": 64,
   "id": "337dacec",
   "metadata": {},
   "outputs": [
    {
     "name": "stdout",
     "output_type": "stream",
     "text": [
      "Second Smallest Number: 4\n"
     ]
    }
   ],
   "source": [
    "print(\"Second Smallest Number:\", second_smallest)"
   ]
  },
  {
   "cell_type": "markdown",
   "id": "def01b13",
   "metadata": {},
   "source": [
    "Q23"
   ]
  },
  {
   "cell_type": "code",
   "execution_count": 65,
   "id": "0b5e1216",
   "metadata": {},
   "outputs": [],
   "source": [
    "numbers = [82, 4, 56, 78, 4, 34, 5, 100, 9]"
   ]
  },
  {
   "cell_type": "code",
   "execution_count": 66,
   "id": "0a476470",
   "metadata": {},
   "outputs": [],
   "source": [
    "unique_sorted_numbers = sorted(set(numbers), reverse=True)"
   ]
  },
  {
   "cell_type": "code",
   "execution_count": 67,
   "id": "00087775",
   "metadata": {},
   "outputs": [],
   "source": [
    "if len(unique_sorted_numbers) >= 2:\n",
    "    second_largest = unique_sorted_numbers[1]\n",
    "else:\n",
    "    second_largest = None"
   ]
  },
  {
   "cell_type": "code",
   "execution_count": 68,
   "id": "135c6015",
   "metadata": {},
   "outputs": [
    {
     "name": "stdout",
     "output_type": "stream",
     "text": [
      "Second Largest Number: 82\n"
     ]
    }
   ],
   "source": [
    "print(\"Second Largest Number:\", second_largest)"
   ]
  },
  {
   "cell_type": "markdown",
   "id": "e7afc5bb",
   "metadata": {},
   "source": [
    "Q24"
   ]
  },
  {
   "cell_type": "code",
   "execution_count": 69,
   "id": "5456e9e2",
   "metadata": {},
   "outputs": [],
   "source": [
    "numbers = [82, 4, 10, 56, 78, 4, 34, 5, 10, 9]"
   ]
  },
  {
   "cell_type": "code",
   "execution_count": 70,
   "id": "4ea1ecfd",
   "metadata": {},
   "outputs": [],
   "source": [
    "seen = set()\n",
    "unique_numbers = [x for x in numbers if not (x in seen or seen.add(x))]"
   ]
  },
  {
   "cell_type": "code",
   "execution_count": 71,
   "id": "1a392552",
   "metadata": {},
   "outputs": [
    {
     "name": "stdout",
     "output_type": "stream",
     "text": [
      "[82, 4, 10, 56, 78, 34, 5, 9]\n"
     ]
    }
   ],
   "source": [
    "print(unique_numbers)"
   ]
  },
  {
   "cell_type": "markdown",
   "id": "c552283e",
   "metadata": {},
   "source": [
    "Q25"
   ]
  },
  {
   "cell_type": "code",
   "execution_count": 72,
   "id": "37277fc3",
   "metadata": {},
   "outputs": [],
   "source": [
    "from collections import Counter"
   ]
  },
  {
   "cell_type": "code",
   "execution_count": 73,
   "id": "a0593541",
   "metadata": {},
   "outputs": [],
   "source": [
    "numbers = [10, 30, 50, 10, 20, 60, 20, 60, 40, 40, 50, 50, 30]"
   ]
  },
  {
   "cell_type": "code",
   "execution_count": 74,
   "id": "7749097c",
   "metadata": {},
   "outputs": [
    {
     "name": "stdout",
     "output_type": "stream",
     "text": [
      "Counter({10: 2, 30: 2, 50: 3, 20: 2, 60: 2, 40: 2})\n"
     ]
    }
   ],
   "source": [
    "frequency = Counter(numbers)\n",
    "print(\"Counter({})\".format(dict(frequency)))"
   ]
  },
  {
   "cell_type": "markdown",
   "id": "901e085f",
   "metadata": {},
   "source": [
    "Q26"
   ]
  },
  {
   "cell_type": "code",
   "execution_count": 75,
   "id": "e34d79c1",
   "metadata": {},
   "outputs": [],
   "source": [
    "prefix = 'T'\n",
    "N = 10"
   ]
  },
  {
   "cell_type": "code",
   "execution_count": 76,
   "id": "bf6108eb",
   "metadata": {},
   "outputs": [
    {
     "name": "stdout",
     "output_type": "stream",
     "text": [
      "['T1', 'T2', 'T3', 'T4', 'T5', 'T6', 'T7', 'T8', 'T9', 'T10']\n"
     ]
    }
   ],
   "source": [
    "concatenated_list = [f'{prefix}{i}' for i in range(1, N + 1)]\n",
    "print(concatenated_list)"
   ]
  },
  {
   "cell_type": "markdown",
   "id": "e5f9d4ae",
   "metadata": {},
   "source": [
    "Q27"
   ]
  },
  {
   "cell_type": "code",
   "execution_count": 77,
   "id": "708849a2",
   "metadata": {},
   "outputs": [],
   "source": [
    "import uuid"
   ]
  },
  {
   "cell_type": "code",
   "execution_count": 78,
   "id": "fb7f4c83",
   "metadata": {},
   "outputs": [],
   "source": [
    "x = 30\n",
    "s = \"Tutor Joes\""
   ]
  },
  {
   "cell_type": "code",
   "execution_count": 79,
   "id": "eba5e574",
   "metadata": {},
   "outputs": [],
   "source": [
    "unique_identification_number = hash(x)\n",
    "unique_identification_string = uuid.uuid4().hex"
   ]
  },
  {
   "cell_type": "code",
   "execution_count": 80,
   "id": "845e4a1e",
   "metadata": {},
   "outputs": [
    {
     "name": "stdout",
     "output_type": "stream",
     "text": [
      "Unique Identification Number: 30\n",
      "Unique Identification String: 8e7a933b2d83485f997f548d7a6619c9\n"
     ]
    }
   ],
   "source": [
    "print(\"Unique Identification Number:\", unique_identification_number)\n",
    "print(\"Unique Identification String:\", unique_identification_string)"
   ]
  },
  {
   "cell_type": "markdown",
   "id": "2d9ed77f",
   "metadata": {},
   "source": [
    "Q28"
   ]
  },
  {
   "cell_type": "code",
   "execution_count": 81,
   "id": "eadca07a",
   "metadata": {},
   "outputs": [],
   "source": [
    "list1 = [23, 45, 67, 78, 89, 34]\n",
    "list2 = [34, 89, 55, 56, 39, 67]"
   ]
  },
  {
   "cell_type": "code",
   "execution_count": 82,
   "id": "5e0bdc34",
   "metadata": {},
   "outputs": [
    {
     "name": "stdout",
     "output_type": "stream",
     "text": [
      "Common items from two lists: [89, 34, 67]\n"
     ]
    }
   ],
   "source": [
    "common_items = list(set(list1) & set(list2))\n",
    "print(\"Common items from two lists:\", common_items)"
   ]
  },
  {
   "cell_type": "markdown",
   "id": "92ca3e15",
   "metadata": {},
   "source": [
    "Q29"
   ]
  },
  {
   "cell_type": "code",
   "execution_count": 83,
   "id": "52d65a60",
   "metadata": {},
   "outputs": [],
   "source": [
    "animals = [\"cat\", \"dog\", \"cow\", \"tiger\", \"lion\", \"Fox\", \"Shark\", \"Snake\", \"turtle\", \"mouse\", \"monkey\", \"bear\"]"
   ]
  },
  {
   "cell_type": "code",
   "execution_count": 84,
   "id": "99f44bc8",
   "metadata": {},
   "outputs": [],
   "source": [
    "sorted_animals = {}\n",
    "\n",
    "for animal in animals:\n",
    "    first_letter = animal[0].lower()\n",
    "    if first_letter not in sorted_animals:\n",
    "        sorted_animals[first_letter] = []\n",
    "    sorted_animals[first_letter].append(animal)"
   ]
  },
  {
   "cell_type": "code",
   "execution_count": 85,
   "id": "7f834a2b",
   "metadata": {},
   "outputs": [
    {
     "name": "stdout",
     "output_type": "stream",
     "text": [
      "B\n",
      "bear\n",
      "C\n",
      "cat\n",
      "cow\n",
      "D\n",
      "dog\n",
      "F\n",
      "Fox\n",
      "L\n",
      "lion\n",
      "M\n",
      "mouse\n",
      "monkey\n",
      "S\n",
      "Shark\n",
      "Snake\n",
      "T\n",
      "tiger\n",
      "turtle\n"
     ]
    }
   ],
   "source": [
    "for letter in sorted(sorted_animals.keys()):\n",
    "    print(f\"{letter.upper()}\")\n",
    "    for animal in sorted_animals[letter]:\n",
    "        print(animal)"
   ]
  },
  {
   "cell_type": "markdown",
   "id": "e1db6f86",
   "metadata": {},
   "source": [
    "Q30"
   ]
  },
  {
   "cell_type": "code",
   "execution_count": 86,
   "id": "f867f2e3",
   "metadata": {},
   "outputs": [],
   "source": [
    "numbers = [1, 2, 4, 3, 6, 7, 5, 8, 9, 7, 8, 9, 10]"
   ]
  },
  {
   "cell_type": "code",
   "execution_count": 87,
   "id": "abf9eb8b",
   "metadata": {},
   "outputs": [
    {
     "name": "stdout",
     "output_type": "stream",
     "text": [
      "[1, 3, 7, 5, 9, 7, 9]\n"
     ]
    }
   ],
   "source": [
    "odd_numbers = [num for num in numbers if num % 2 != 0]\n",
    "print(odd_numbers)"
   ]
  },
  {
   "cell_type": "markdown",
   "id": "00aaf54c",
   "metadata": {},
   "source": [
    "Q31"
   ]
  },
  {
   "cell_type": "code",
   "execution_count": 88,
   "id": "5d193cda",
   "metadata": {},
   "outputs": [],
   "source": [
    "numbers = [10, 20, 30, 50, 80, 70, 70, 80, 10]"
   ]
  },
  {
   "cell_type": "code",
   "execution_count": 89,
   "id": "e72edcf1",
   "metadata": {},
   "outputs": [
    {
     "name": "stdout",
     "output_type": "stream",
     "text": [
      "No of Unique Items in List: 6\n"
     ]
    }
   ],
   "source": [
    "unique_items_count = len(set(numbers))\n",
    "print(\"No of Unique Items in List:\", unique_items_count)"
   ]
  },
  {
   "cell_type": "markdown",
   "id": "9a963e49",
   "metadata": {},
   "source": [
    "Q32"
   ]
  },
  {
   "cell_type": "code",
   "execution_count": 90,
   "id": "1dc83817",
   "metadata": {},
   "outputs": [],
   "source": [
    "from functools import reduce\n",
    "from operator import mul"
   ]
  },
  {
   "cell_type": "code",
   "execution_count": 91,
   "id": "c200a8e3",
   "metadata": {},
   "outputs": [],
   "source": [
    "numbers = [2, 1, 2, 4, 6, 4, 3, 2, 1]\n",
    "unique_numbers = set(numbers)"
   ]
  },
  {
   "cell_type": "code",
   "execution_count": 92,
   "id": "76702b51",
   "metadata": {},
   "outputs": [
    {
     "name": "stdout",
     "output_type": "stream",
     "text": [
      "Duplication removal list product: 144\n"
     ]
    }
   ],
   "source": [
    "product = reduce(mul, unique_numbers)\n",
    "print(\"Duplication removal list product:\", product)"
   ]
  },
  {
   "cell_type": "markdown",
   "id": "42fb3c99",
   "metadata": {},
   "source": [
    "Q33"
   ]
  },
  {
   "cell_type": "code",
   "execution_count": 93,
   "id": "62c29e9b",
   "metadata": {},
   "outputs": [],
   "source": [
    "from collections import Counter"
   ]
  },
  {
   "cell_type": "code",
   "execution_count": 94,
   "id": "721fcb93",
   "metadata": {},
   "outputs": [],
   "source": [
    "numbers = [4, 6, 4, 3, 3, 4, 3, 7, 8, 8]\n",
    "K = 2"
   ]
  },
  {
   "cell_type": "code",
   "execution_count": 95,
   "id": "fa803723",
   "metadata": {},
   "outputs": [],
   "source": [
    "frequency = Counter(numbers)"
   ]
  },
  {
   "cell_type": "code",
   "execution_count": 96,
   "id": "d3777800",
   "metadata": {},
   "outputs": [
    {
     "name": "stdout",
     "output_type": "stream",
     "text": [
      "[4, 4, 3, 3, 4, 3]\n"
     ]
    }
   ],
   "source": [
    "filtered_elements = [x for x in numbers if frequency[x] > K]\n",
    "print(filtered_elements)"
   ]
  },
  {
   "cell_type": "markdown",
   "id": "6afabdff",
   "metadata": {},
   "source": [
    "Q34"
   ]
  },
  {
   "cell_type": "code",
   "execution_count": 97,
   "id": "17797dcc",
   "metadata": {},
   "outputs": [],
   "source": [
    "elements = [4, 5, 6, 7, 3, 9]\n",
    "range_start = 3\n",
    "range_end = 9"
   ]
  },
  {
   "cell_type": "code",
   "execution_count": 98,
   "id": "cf83f07b",
   "metadata": {},
   "outputs": [],
   "source": [
    "required_elements = set(range(range_start, range_end + 1))\n",
    "does_contain = required_elements.issubset(set(elements))"
   ]
  },
  {
   "cell_type": "code",
   "execution_count": 99,
   "id": "f18eb0df",
   "metadata": {},
   "outputs": [
    {
     "name": "stdout",
     "output_type": "stream",
     "text": [
      "Does list contain all elements in range: False\n"
     ]
    }
   ],
   "source": [
    "print(f\"Does list contain all elements in range: {does_contain}\")"
   ]
  },
  {
   "cell_type": "markdown",
   "id": "53faa679",
   "metadata": {},
   "source": [
    "Q35"
   ]
  },
  {
   "cell_type": "code",
   "execution_count": 100,
   "id": "c99a5917",
   "metadata": {},
   "outputs": [],
   "source": [
    "numbers = [18, 18, 18, 6, 3, 4, 9, 9, 9]"
   ]
  },
  {
   "cell_type": "code",
   "execution_count": 101,
   "id": "eaa7677a",
   "metadata": {},
   "outputs": [],
   "source": [
    "def find_three_consecutive(nums):\n",
    "    consecutive_set = set()\n",
    "    for i in range(len(nums) - 2):\n",
    "        if nums[i] == nums[i + 1] == nums[i + 2]:\n",
    "            consecutive_set.add(nums[i])\n",
    "    return consecutive_set"
   ]
  },
  {
   "cell_type": "code",
   "execution_count": 102,
   "id": "1a1357c0",
   "metadata": {},
   "outputs": [
    {
     "name": "stdout",
     "output_type": "stream",
     "text": [
      "Three Consecutive common numbers = 9, 18\n"
     ]
    }
   ],
   "source": [
    "consecutive_common_numbers = find_three_consecutive(numbers)\n",
    "print(\"Three Consecutive common numbers =\", ', '.join(map(str, consecutive_common_numbers)))"
   ]
  },
  {
   "cell_type": "markdown",
   "id": "edcf1642",
   "metadata": {},
   "source": [
    "Q36"
   ]
  },
  {
   "cell_type": "code",
   "execution_count": 103,
   "id": "81fd7850",
   "metadata": {},
   "outputs": [],
   "source": [
    "numbers = [10, 20, 30, 20, 30, 400]"
   ]
  },
  {
   "cell_type": "code",
   "execution_count": 104,
   "id": "91e08397",
   "metadata": {},
   "outputs": [],
   "source": [
    "def strongest_neighbours(nums):\n",
    "    result = []\n",
    "    for i in range(len(nums) - 1):\n",
    "        result.append(max(nums[i], nums[i + 1]))\n",
    "    return result"
   ]
  },
  {
   "cell_type": "code",
   "execution_count": 105,
   "id": "64ebf7a1",
   "metadata": {},
   "outputs": [
    {
     "name": "stdout",
     "output_type": "stream",
     "text": [
      "20 30 30 30 400\n"
     ]
    }
   ],
   "source": [
    "strongest = strongest_neighbours(numbers)\n",
    "print(' '.join(map(str, strongest)))"
   ]
  },
  {
   "cell_type": "markdown",
   "id": "2ff8f25b",
   "metadata": {},
   "source": [
    "Q37"
   ]
  },
  {
   "cell_type": "code",
   "execution_count": 106,
   "id": "c6978a56",
   "metadata": {},
   "outputs": [],
   "source": [
    "import itertools"
   ]
  },
  {
   "cell_type": "code",
   "execution_count": 107,
   "id": "b09baa94",
   "metadata": {},
   "outputs": [
    {
     "name": "stdout",
     "output_type": "stream",
     "text": [
      "1 2 3\n",
      "1 3 2\n",
      "2 1 3\n",
      "2 3 1\n",
      "3 1 2\n",
      "3 2 1\n"
     ]
    }
   ],
   "source": [
    "digits = [1, 2, 3]\n",
    "\n",
    "permutations = itertools.permutations(digits)\n",
    "\n",
    "for perm in permutations:\n",
    "    print(' '.join(map(str, perm)))"
   ]
  },
  {
   "cell_type": "markdown",
   "id": "9e649489",
   "metadata": {},
   "source": [
    "Q38"
   ]
  },
  {
   "cell_type": "code",
   "execution_count": 108,
   "id": "7e2aad66",
   "metadata": {},
   "outputs": [],
   "source": [
    "import itertools"
   ]
  },
  {
   "cell_type": "code",
   "execution_count": 109,
   "id": "1e87073f",
   "metadata": {},
   "outputs": [],
   "source": [
    "groups = [['Tutor Joes'], ['Software', 'Computer'], ['Solution', 'Education']]"
   ]
  },
  {
   "cell_type": "code",
   "execution_count": 110,
   "id": "73dec761",
   "metadata": {},
   "outputs": [],
   "source": [
    "def find_combinations(groups):\n",
    "    all_combinations = []\n",
    "    for combination in itertools.product(*groups):\n",
    "        all_combinations.append(list(combination))\n",
    "    return all_combinations"
   ]
  },
  {
   "cell_type": "code",
   "execution_count": 111,
   "id": "c199cf36",
   "metadata": {},
   "outputs": [
    {
     "name": "stdout",
     "output_type": "stream",
     "text": [
      "['Tutor Joes', 'Software', 'Solution']\n",
      "['Tutor Joes', 'Software', 'Education']\n",
      "['Tutor Joes', 'Computer', 'Solution']\n",
      "['Tutor Joes', 'Computer', 'Education']\n"
     ]
    }
   ],
   "source": [
    "combinations = find_combinations(groups)\n",
    "for combo in combinations:\n",
    "    print(combo)"
   ]
  },
  {
   "cell_type": "markdown",
   "id": "2c94c88b",
   "metadata": {},
   "source": [
    "Q39"
   ]
  },
  {
   "cell_type": "code",
   "execution_count": 112,
   "id": "42836802",
   "metadata": {},
   "outputs": [],
   "source": [
    "import itertools"
   ]
  },
  {
   "cell_type": "code",
   "execution_count": 113,
   "id": "fe465426",
   "metadata": {},
   "outputs": [],
   "source": [
    "list1 = ['A', 'B', 'C']\n",
    "list2 = [1, 2, 3]"
   ]
  },
  {
   "cell_type": "code",
   "execution_count": 114,
   "id": "999dd3cc",
   "metadata": {},
   "outputs": [
    {
     "name": "stdout",
     "output_type": "stream",
     "text": [
      "[('A', 1), ('A', 2), ('A', 3), ('B', 1), ('B', 2), ('B', 3), ('C', 1), ('C', 2), ('C', 3)]\n"
     ]
    }
   ],
   "source": [
    "combinations = list(itertools.product(list1, list2))\n",
    "print(combinations)"
   ]
  },
  {
   "cell_type": "markdown",
   "id": "4731b2f0",
   "metadata": {},
   "source": [
    "Q40"
   ]
  },
  {
   "cell_type": "code",
   "execution_count": 115,
   "id": "43cbae64",
   "metadata": {},
   "outputs": [],
   "source": [
    "numbers = [1, 3, 4, 6, 5, 1]\n",
    "element_to_remove = 1"
   ]
  },
  {
   "cell_type": "code",
   "execution_count": 116,
   "id": "ad63ca49",
   "metadata": {},
   "outputs": [
    {
     "name": "stdout",
     "output_type": "stream",
     "text": [
      "[3, 4, 6, 5]\n"
     ]
    }
   ],
   "source": [
    "filtered_numbers = [num for num in numbers if num != element_to_remove]\n",
    "print(filtered_numbers)"
   ]
  },
  {
   "cell_type": "markdown",
   "id": "febfacc1",
   "metadata": {},
   "source": [
    "Q41"
   ]
  },
  {
   "cell_type": "code",
   "execution_count": 117,
   "id": "e8847f07",
   "metadata": {},
   "outputs": [],
   "source": [
    "def remove_consecutive_duplicates(records):\n",
    "    result = [records[0]]\n",
    "\n",
    "    for current in records[1:]:\n",
    "        if current != result[-1]:\n",
    "            result.append(current)\n",
    "    return result"
   ]
  },
  {
   "cell_type": "code",
   "execution_count": 118,
   "id": "2ba42079",
   "metadata": {},
   "outputs": [],
   "source": [
    "records = [('A', 'B', 'C', 'D'), ('B', 'C', 'C', 'H'), ('H', 'D', 'B', 'C'), ('C', 'C', 'G', 'F')]"
   ]
  },
  {
   "cell_type": "code",
   "execution_count": 119,
   "id": "1dbfa46d",
   "metadata": {},
   "outputs": [
    {
     "name": "stdout",
     "output_type": "stream",
     "text": [
      "[('A', 'B', 'C', 'D'), ('B', 'C', 'C', 'H'), ('H', 'D', 'B', 'C'), ('C', 'C', 'G', 'F')]\n"
     ]
    }
   ],
   "source": [
    "cleaned_records = remove_consecutive_duplicates(records)\n",
    "print(cleaned_records)"
   ]
  },
  {
   "cell_type": "markdown",
   "id": "f8371a30",
   "metadata": {},
   "source": [
    "Q42"
   ]
  },
  {
   "cell_type": "code",
   "execution_count": 120,
   "id": "9d11f88c",
   "metadata": {},
   "outputs": [],
   "source": [
    "def replace_with_indices(source_list, index_list):\n",
    "    return [source_list[i] for i in index_list]"
   ]
  },
  {
   "cell_type": "code",
   "execution_count": 121,
   "id": "cae811c1",
   "metadata": {},
   "outputs": [],
   "source": [
    "source_list = ['Tutor Joes', 'Computer', 'Education']\n",
    "index_list = [2, 1, 0, 1, 0, 2, 2, 0, 1, 0, 1, 2]"
   ]
  },
  {
   "cell_type": "code",
   "execution_count": 122,
   "id": "4aeb8d7d",
   "metadata": {},
   "outputs": [
    {
     "name": "stdout",
     "output_type": "stream",
     "text": [
      "['Education', 'Computer', 'Tutor Joes', 'Computer', 'Tutor Joes', 'Education', 'Education', 'Tutor Joes', 'Computer', 'Tutor Joes', 'Computer', 'Education']\n"
     ]
    }
   ],
   "source": [
    "replaced_list = replace_with_indices(source_list, index_list)\n",
    "print(replaced_list)"
   ]
  },
  {
   "cell_type": "markdown",
   "id": "1a7c416f",
   "metadata": {},
   "source": [
    "Q43"
   ]
  },
  {
   "cell_type": "code",
   "execution_count": 123,
   "id": "7cd64aa4",
   "metadata": {},
   "outputs": [],
   "source": [
    "def retain_records_with_occurrences(records, k, n):\n",
    "    return [record for record in records if record.count(k) == n]"
   ]
  },
  {
   "cell_type": "code",
   "execution_count": 124,
   "id": "4e2af8c0",
   "metadata": {},
   "outputs": [],
   "source": [
    "records = [(4, 5, 6, 5, 4), (4, 5, 3, 5), (5, 5, 2), (3, 4, 9)]\n",
    "\n",
    "K = 5\n",
    "N = 2"
   ]
  },
  {
   "cell_type": "code",
   "execution_count": 125,
   "id": "07092138",
   "metadata": {},
   "outputs": [
    {
     "name": "stdout",
     "output_type": "stream",
     "text": [
      "[(4, 5, 6, 5, 4), (4, 5, 3, 5), (5, 5, 2)]\n"
     ]
    }
   ],
   "source": [
    "filtered_records = retain_records_with_occurrences(records, K, N)\n",
    "print(filtered_records)"
   ]
  },
  {
   "cell_type": "markdown",
   "id": "4ffb2bcf",
   "metadata": {},
   "source": [
    "Q44"
   ]
  },
  {
   "cell_type": "code",
   "execution_count": 126,
   "id": "4f137b7c",
   "metadata": {},
   "outputs": [],
   "source": [
    "string_list = ['Tutor', 'joes', 'Computer', 'Education']"
   ]
  },
  {
   "cell_type": "code",
   "execution_count": 127,
   "id": "cf607361",
   "metadata": {},
   "outputs": [],
   "source": [
    "string_list[1] = \"Joe's\"\n",
    "string_list[3] = 'Solutions'"
   ]
  },
  {
   "cell_type": "code",
   "execution_count": 128,
   "id": "5b2f3231",
   "metadata": {},
   "outputs": [
    {
     "name": "stdout",
     "output_type": "stream",
     "text": [
      "['Tutor', \"Joe's\", 'Computer', 'Solutions']\n"
     ]
    }
   ],
   "source": [
    "print(string_list)"
   ]
  },
  {
   "cell_type": "markdown",
   "id": "e7519ccb",
   "metadata": {},
   "source": [
    "Q45"
   ]
  },
  {
   "cell_type": "code",
   "execution_count": 129,
   "id": "07610e12",
   "metadata": {},
   "outputs": [],
   "source": [
    "original_list = ['Tutor', 'joes', 'Computer', 'Education']"
   ]
  },
  {
   "cell_type": "code",
   "execution_count": 130,
   "id": "3e5d49e9",
   "metadata": {},
   "outputs": [],
   "source": [
    "reversed_strings = [s[::-1] for s in original_list]\n",
    "reversed_list = reversed_strings[::-1]"
   ]
  },
  {
   "cell_type": "code",
   "execution_count": 131,
   "id": "d5d41917",
   "metadata": {},
   "outputs": [
    {
     "name": "stdout",
     "output_type": "stream",
     "text": [
      "Original list = ['Tutor', 'joes', 'Computer', 'Education']\n",
      "Reversed list = ['noitacudE', 'retupmoC', 'seoj', 'rotuT']\n"
     ]
    }
   ],
   "source": [
    "print(\"Original list =\", original_list)\n",
    "print(\"Reversed list =\", reversed_list)"
   ]
  },
  {
   "cell_type": "markdown",
   "id": "f7ffa8d1",
   "metadata": {},
   "source": [
    "Q46"
   ]
  },
  {
   "cell_type": "code",
   "execution_count": 132,
   "id": "d2892e4b",
   "metadata": {},
   "outputs": [],
   "source": [
    "def find_word_at_kth_position(words, k):\n",
    "    cumulative_length = 0\n",
    "    for index, word in enumerate(words):\n",
    "        cumulative_length += len(word)\n",
    "        if cumulative_length >= k:\n",
    "            return index + 1 "
   ]
  },
  {
   "cell_type": "code",
   "execution_count": 133,
   "id": "fd023adf",
   "metadata": {},
   "outputs": [],
   "source": [
    "words = ['Tutor', 'joes', 'Computer', 'Education']"
   ]
  },
  {
   "cell_type": "code",
   "execution_count": 134,
   "id": "ec0f042e",
   "metadata": {},
   "outputs": [],
   "source": [
    "K = 20\n",
    "word_index = find_word_at_kth_position(words, K)"
   ]
  },
  {
   "cell_type": "code",
   "execution_count": 135,
   "id": "2b8ab9aa",
   "metadata": {},
   "outputs": [
    {
     "name": "stdout",
     "output_type": "stream",
     "text": [
      "Index of character at Kth position word: 4\n"
     ]
    }
   ],
   "source": [
    "print(\"Index of character at Kth position word:\", word_index)"
   ]
  },
  {
   "cell_type": "markdown",
   "id": "49bbddc0",
   "metadata": {},
   "source": [
    "Q47"
   ]
  },
  {
   "cell_type": "code",
   "execution_count": 136,
   "id": "4be97402",
   "metadata": {},
   "outputs": [],
   "source": [
    "def count_strings_with_prefix(strings, prefix):\n",
    "    count = sum(1 for s in strings if s.startswith(prefix))\n",
    "    return count"
   ]
  },
  {
   "cell_type": "code",
   "execution_count": 137,
   "id": "3e0e4a61",
   "metadata": {},
   "outputs": [],
   "source": [
    "strings = ['TjC', 'TjCpp', 'TjPython', 'Java']\n",
    "prefix = 'Tj'\n",
    "\n",
    "matching_count = count_strings_with_prefix(strings, prefix)"
   ]
  },
  {
   "cell_type": "code",
   "execution_count": 138,
   "id": "98d75fe6",
   "metadata": {},
   "outputs": [
    {
     "name": "stdout",
     "output_type": "stream",
     "text": [
      "Strings count with matching frequency: 3\n"
     ]
    }
   ],
   "source": [
    "print(\"Strings count with matching frequency:\", matching_count)"
   ]
  },
  {
   "cell_type": "markdown",
   "id": "1329673d",
   "metadata": {},
   "source": [
    "Q48"
   ]
  },
  {
   "cell_type": "code",
   "execution_count": 139,
   "id": "f545555b",
   "metadata": {},
   "outputs": [],
   "source": [
    "def split_on_prefix(strings, prefix):\n",
    "    with_prefix = [s for s in strings if s.startswith(prefix)]\n",
    "    without_prefix = [s for s in strings if not s.startswith(prefix)]\n",
    "    return [with_prefix, without_prefix]"
   ]
  },
  {
   "cell_type": "code",
   "execution_count": 140,
   "id": "0c2db572",
   "metadata": {},
   "outputs": [],
   "source": [
    "strings = ['TjC', 'TjCpp', 'TjPython', 'Java', 'tj']\n",
    "prefix = 'Tj'"
   ]
  },
  {
   "cell_type": "code",
   "execution_count": 141,
   "id": "1e6455a8",
   "metadata": {},
   "outputs": [
    {
     "name": "stdout",
     "output_type": "stream",
     "text": [
      "[['TjC', 'TjCpp', 'TjPython'], ['Java', 'tj']]\n"
     ]
    }
   ],
   "source": [
    "split_lists = split_on_prefix(strings, prefix)\n",
    "print(split_lists)"
   ]
  },
  {
   "cell_type": "markdown",
   "id": "6264ff92",
   "metadata": {},
   "source": [
    "Q49"
   ]
  },
  {
   "cell_type": "code",
   "execution_count": 142,
   "id": "218fdeed",
   "metadata": {},
   "outputs": [],
   "source": [
    "def replace_except_given(chars, given_char, replace_with):\n",
    "    return [replace_with if char != given_char else char for char in chars]"
   ]
  },
  {
   "cell_type": "code",
   "execution_count": 143,
   "id": "22b76925",
   "metadata": {},
   "outputs": [],
   "source": [
    "characters = ['P', 'Y', 'T', 'H', 'O', 'N']\n",
    "given_character = 'O'\n",
    "replacement_character = '@'"
   ]
  },
  {
   "cell_type": "code",
   "execution_count": 144,
   "id": "13054bde",
   "metadata": {},
   "outputs": [
    {
     "name": "stdout",
     "output_type": "stream",
     "text": [
      "['@', '@', '@', '@', 'O', '@']\n"
     ]
    }
   ],
   "source": [
    "modify = replace_except_given(characters, given_character, replacement_character)\n",
    "print(modify)"
   ]
  },
  {
   "cell_type": "markdown",
   "id": "a05d3ef1",
   "metadata": {},
   "source": [
    "Q50"
   ]
  },
  {
   "cell_type": "code",
   "execution_count": 145,
   "id": "486c2c6f",
   "metadata": {},
   "outputs": [],
   "source": [
    "import re"
   ]
  },
  {
   "cell_type": "code",
   "execution_count": 146,
   "id": "ed76d642",
   "metadata": {},
   "outputs": [],
   "source": [
    "def add_space_between_words(words):\n",
    "    spaced_words = [re.sub(r'(?<=[a-z])(?=[A-Z])', ' ', word) for word in words]\n",
    "    return spaced_words"
   ]
  },
  {
   "cell_type": "code",
   "execution_count": 147,
   "id": "aa138729",
   "metadata": {},
   "outputs": [],
   "source": [
    "words = ['TutorJoes', 'ComputerEducations']"
   ]
  },
  {
   "cell_type": "code",
   "execution_count": 148,
   "id": "21cbbe2f",
   "metadata": {},
   "outputs": [
    {
     "name": "stdout",
     "output_type": "stream",
     "text": [
      "['Tutor Joes', 'Computer Educations']\n"
     ]
    }
   ],
   "source": [
    "spaced_list = add_space_between_words(words)\n",
    "print(spaced_list)"
   ]
  }
 ],
 "metadata": {
  "kernelspec": {
   "display_name": "Python 3 (ipykernel)",
   "language": "python",
   "name": "python3"
  },
  "language_info": {
   "codemirror_mode": {
    "name": "ipython",
    "version": 3
   },
   "file_extension": ".py",
   "mimetype": "text/x-python",
   "name": "python",
   "nbconvert_exporter": "python",
   "pygments_lexer": "ipython3",
   "version": "3.11.4"
  }
 },
 "nbformat": 4,
 "nbformat_minor": 5
}
