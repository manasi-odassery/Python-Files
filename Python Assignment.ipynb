{
 "cells": [
  {
   "cell_type": "markdown",
   "id": "ad1c552c",
   "metadata": {},
   "source": [
    "# Task 1"
   ]
  },
  {
   "cell_type": "markdown",
   "id": "23770f85",
   "metadata": {},
   "source": [
    "Q1"
   ]
  },
  {
   "cell_type": "code",
   "execution_count": 1,
   "id": "419c9f49",
   "metadata": {},
   "outputs": [],
   "source": [
    "def calculate_gross_salary(basic_salary):\n",
    "    dearness_allowance = 0.4 * basic_salary \n",
    "    house_rent_allowance = 0.2 * basic_salary\n",
    "    gross_salary = basic_salary + dearness_allowance + house_rent_allowance\n",
    "    return gross_salary"
   ]
  },
  {
   "cell_type": "code",
   "execution_count": 2,
   "id": "e091753c",
   "metadata": {},
   "outputs": [
    {
     "name": "stdout",
     "output_type": "stream",
     "text": [
      "Enter Ramesh's basic salary: 25000\n"
     ]
    }
   ],
   "source": [
    "basic_salary = float(input(\"Enter Ramesh's basic salary: \"))"
   ]
  },
  {
   "cell_type": "code",
   "execution_count": 3,
   "id": "1fab64ee",
   "metadata": {},
   "outputs": [],
   "source": [
    "gross_salary = calculate_gross_salary(basic_salary)"
   ]
  },
  {
   "cell_type": "code",
   "execution_count": 4,
   "id": "d9aa9867",
   "metadata": {},
   "outputs": [
    {
     "name": "stdout",
     "output_type": "stream",
     "text": [
      "Ramesh's gross salary is: 40000.0\n"
     ]
    }
   ],
   "source": [
    "print(f\"Ramesh's gross salary is: {gross_salary}\")"
   ]
  },
  {
   "cell_type": "markdown",
   "id": "83144522",
   "metadata": {},
   "source": [
    "Q2"
   ]
  },
  {
   "cell_type": "code",
   "execution_count": 5,
   "id": "af8bb952",
   "metadata": {},
   "outputs": [],
   "source": [
    "def convert_distances(kilometers):\n",
    "    meters_per_km = 1000\n",
    "    feet_per_meter = 3.28084\n",
    "    inches_per_foot = 12\n",
    "    cm_per_meter = 100\n",
    "\n",
    "    meters = kilometers * meters_per_km\n",
    "    feet = meters * feet_per_meter\n",
    "    inches = feet * inches_per_foot\n",
    "    centimeters = meters * cm_per_meter\n",
    "    \n",
    "    return meters, feet, inches, centimeters"
   ]
  },
  {
   "cell_type": "code",
   "execution_count": 6,
   "id": "ce9537c1",
   "metadata": {},
   "outputs": [
    {
     "name": "stdout",
     "output_type": "stream",
     "text": [
      "Enter the distance between two cities in kilometers: 23\n"
     ]
    }
   ],
   "source": [
    "distance_km = float(input(\"Enter the distance between two cities in kilometers: \"))"
   ]
  },
  {
   "cell_type": "code",
   "execution_count": 7,
   "id": "75bd49da",
   "metadata": {},
   "outputs": [],
   "source": [
    "meters, feet, inches, centimeters = convert_distances(distance_km)"
   ]
  },
  {
   "cell_type": "code",
   "execution_count": 8,
   "id": "8ed85c31",
   "metadata": {},
   "outputs": [
    {
     "name": "stdout",
     "output_type": "stream",
     "text": [
      "Distance in meters: 23000.0 m\n",
      "Distance in feet: 75459.31999999999 ft\n",
      "Distance in inches: 905511.8399999999 in\n",
      "Distance in centimeters: 2300000.0 cm\n"
     ]
    }
   ],
   "source": [
    "print(f\"Distance in meters: {meters} m\")\n",
    "print(f\"Distance in feet: {feet} ft\")\n",
    "print(f\"Distance in inches: {inches} in\")\n",
    "print(f\"Distance in centimeters: {centimeters} cm\")"
   ]
  },
  {
   "cell_type": "markdown",
   "id": "6217f0ca",
   "metadata": {},
   "source": [
    "Q3"
   ]
  },
  {
   "cell_type": "code",
   "execution_count": 9,
   "id": "7c36d344",
   "metadata": {},
   "outputs": [],
   "source": [
    "def calculate_results(marks):\n",
    "    aggregate_marks = sum(marks)\n",
    "    percentage_marks = aggregate_marks / 5  \n",
    "    return aggregate_marks, percentage_marks"
   ]
  },
  {
   "cell_type": "code",
   "execution_count": 10,
   "id": "f609e48e",
   "metadata": {},
   "outputs": [
    {
     "name": "stdout",
     "output_type": "stream",
     "text": [
      "Enter marks for subject 1: 52\n",
      "Enter marks for subject 2: 63\n",
      "Enter marks for subject 3: 87\n",
      "Enter marks for subject 4: 71\n",
      "Enter marks for subject 5: 56\n"
     ]
    }
   ],
   "source": [
    "marks = []\n",
    "for i in range(1, 6):\n",
    "    mark = float(input(f\"Enter marks for subject {i}: \"))\n",
    "    marks.append(mark)"
   ]
  },
  {
   "cell_type": "code",
   "execution_count": 11,
   "id": "e5b3b2e3",
   "metadata": {},
   "outputs": [],
   "source": [
    "aggregate_marks, percentage_marks = calculate_results(marks)"
   ]
  },
  {
   "cell_type": "code",
   "execution_count": 12,
   "id": "6644ea49",
   "metadata": {},
   "outputs": [
    {
     "name": "stdout",
     "output_type": "stream",
     "text": [
      "Aggregate marks: 329.0\n",
      "Percentage marks: 65.80%\n"
     ]
    }
   ],
   "source": [
    "print(f\"Aggregate marks: {aggregate_marks}\")\n",
    "print(f\"Percentage marks: {percentage_marks:.2f}%\")"
   ]
  },
  {
   "cell_type": "markdown",
   "id": "2125f9b3",
   "metadata": {},
   "source": [
    "Q4"
   ]
  },
  {
   "cell_type": "code",
   "execution_count": 13,
   "id": "a81f5f60",
   "metadata": {},
   "outputs": [],
   "source": [
    "def fahrenheit_to_celsius(fahrenheit):\n",
    "    celsius = (fahrenheit - 32) * 5 / 9\n",
    "    return celsius"
   ]
  },
  {
   "cell_type": "code",
   "execution_count": 14,
   "id": "63be2ca1",
   "metadata": {},
   "outputs": [
    {
     "name": "stdout",
     "output_type": "stream",
     "text": [
      "Enter the temperature in Fahrenheit: 36\n"
     ]
    }
   ],
   "source": [
    "fahrenheit = float(input(\"Enter the temperature in Fahrenheit: \"))\n",
    "celsius = fahrenheit_to_celsius(fahrenheit)"
   ]
  },
  {
   "cell_type": "code",
   "execution_count": 15,
   "id": "cf972fd3",
   "metadata": {},
   "outputs": [
    {
     "name": "stdout",
     "output_type": "stream",
     "text": [
      "The temperature in Celsius is: 2.22 degrees\n"
     ]
    }
   ],
   "source": [
    "print(f\"The temperature in Celsius is: {celsius:.2f} degrees\")"
   ]
  },
  {
   "cell_type": "markdown",
   "id": "0b6173b2",
   "metadata": {},
   "source": [
    "Q5"
   ]
  },
  {
   "cell_type": "code",
   "execution_count": 16,
   "id": "ed4a8d47",
   "metadata": {},
   "outputs": [],
   "source": [
    "import math"
   ]
  },
  {
   "cell_type": "code",
   "execution_count": 17,
   "id": "9b39645c",
   "metadata": {},
   "outputs": [],
   "source": [
    "def calculate_rectangle_area(length, breadth):\n",
    "    return length * breadth\n",
    "\n",
    "def calculate_rectangle_perimeter(length, breadth):\n",
    "    return 2 * (length + breadth)\n",
    "\n",
    "def calculate_circle_area(radius):\n",
    "    return math.pi * radius ** 2\n",
    "\n",
    "def calculate_circle_circumference(radius):\n",
    "    return 2 * math.pi * radius"
   ]
  },
  {
   "cell_type": "code",
   "execution_count": 18,
   "id": "17dee415",
   "metadata": {},
   "outputs": [
    {
     "name": "stdout",
     "output_type": "stream",
     "text": [
      "Enter the length of the rectangle: 15\n",
      "Enter the breadth of the rectangle: 13\n",
      "Enter the radius of the circle: 14\n"
     ]
    }
   ],
   "source": [
    "length = float(input(\"Enter the length of the rectangle: \"))\n",
    "breadth = float(input(\"Enter the breadth of the rectangle: \"))\n",
    "radius = float(input(\"Enter the radius of the circle: \"))"
   ]
  },
  {
   "cell_type": "code",
   "execution_count": 19,
   "id": "d7b2b438",
   "metadata": {},
   "outputs": [],
   "source": [
    "rectangle_area = calculate_rectangle_area(length, breadth)\n",
    "rectangle_perimeter = calculate_rectangle_perimeter(length, breadth)\n",
    "\n",
    "circle_area = calculate_circle_area(radius)\n",
    "circle_circumference = calculate_circle_circumference(radius)"
   ]
  },
  {
   "cell_type": "code",
   "execution_count": 20,
   "id": "688eea28",
   "metadata": {},
   "outputs": [
    {
     "name": "stdout",
     "output_type": "stream",
     "text": [
      "Rectangle area: 195.0 square units\n",
      "Rectangle perimeter: 56.0 units\n",
      "Circle area: 615.75 square units\n",
      "Circle circumference: 87.96 units\n"
     ]
    }
   ],
   "source": [
    "print(f\"Rectangle area: {rectangle_area} square units\")\n",
    "print(f\"Rectangle perimeter: {rectangle_perimeter} units\")\n",
    "print(f\"Circle area: {circle_area:.2f} square units\")\n",
    "print(f\"Circle circumference: {circle_circumference:.2f} units\")"
   ]
  },
  {
   "cell_type": "markdown",
   "id": "44cb6631",
   "metadata": {},
   "source": [
    "Q6"
   ]
  },
  {
   "cell_type": "code",
   "execution_count": 21,
   "id": "e4026ae6",
   "metadata": {},
   "outputs": [
    {
     "name": "stdout",
     "output_type": "stream",
     "text": [
      "Enter the value for C: 3\n",
      "Enter the value for D: 6\n"
     ]
    }
   ],
   "source": [
    "C = float(input(\"Enter the value for C: \"))\n",
    "D = float(input(\"Enter the value for D: \"))"
   ]
  },
  {
   "cell_type": "code",
   "execution_count": 22,
   "id": "05419bd1",
   "metadata": {},
   "outputs": [],
   "source": [
    "C, D = D, C"
   ]
  },
  {
   "cell_type": "code",
   "execution_count": 23,
   "id": "aed3ad64",
   "metadata": {},
   "outputs": [
    {
     "name": "stdout",
     "output_type": "stream",
     "text": [
      "The value of C is: 6.0\n",
      "The value of D is: 3.0\n"
     ]
    }
   ],
   "source": [
    "print(f\"The value of C is: {C}\")\n",
    "print(f\"The value of D is: {D}\")"
   ]
  },
  {
   "cell_type": "markdown",
   "id": "cf5b1c18",
   "metadata": {},
   "source": [
    "Q7"
   ]
  },
  {
   "cell_type": "code",
   "execution_count": 24,
   "id": "2b05095e",
   "metadata": {},
   "outputs": [],
   "source": [
    "def sum_of_digits(number):\n",
    "    sum_digits = 0\n",
    "    while number > 0:\n",
    "        sum_digits += number % 10 \n",
    "        number //= 10\n",
    "    return sum_digits"
   ]
  },
  {
   "cell_type": "code",
   "execution_count": 25,
   "id": "424f1243",
   "metadata": {},
   "outputs": [
    {
     "name": "stdout",
     "output_type": "stream",
     "text": [
      "Enter a five-digit number: 65515\n"
     ]
    }
   ],
   "source": [
    "number = int(input(\"Enter a five-digit number: \"))"
   ]
  },
  {
   "cell_type": "code",
   "execution_count": 26,
   "id": "f4f652ba",
   "metadata": {},
   "outputs": [
    {
     "name": "stdout",
     "output_type": "stream",
     "text": [
      "The sum of the digits is: 22\n"
     ]
    }
   ],
   "source": [
    "result = sum_of_digits(number)\n",
    "print(f\"The sum of the digits is: {result}\")"
   ]
  },
  {
   "cell_type": "markdown",
   "id": "c9290ea0",
   "metadata": {},
   "source": [
    "Q8"
   ]
  },
  {
   "cell_type": "code",
   "execution_count": 27,
   "id": "b17eb627",
   "metadata": {},
   "outputs": [],
   "source": [
    "def reverse_number(number):\n",
    "    reversed_number = 0\n",
    "    while number > 0:\n",
    "        digit = number % 10\n",
    "        reversed_number = reversed_number * 10 + digit\n",
    "        number //= 10\n",
    "    return reversed_number"
   ]
  },
  {
   "cell_type": "code",
   "execution_count": 28,
   "id": "915c80a1",
   "metadata": {},
   "outputs": [
    {
     "name": "stdout",
     "output_type": "stream",
     "text": [
      "Enter a five-digit number: 36156\n"
     ]
    }
   ],
   "source": [
    "number = int(input(\"Enter a five-digit number: \"))\n",
    "result = reverse_number(number)"
   ]
  },
  {
   "cell_type": "code",
   "execution_count": 29,
   "id": "d577b040",
   "metadata": {},
   "outputs": [
    {
     "name": "stdout",
     "output_type": "stream",
     "text": [
      "The reversed number is: 65163\n"
     ]
    }
   ],
   "source": [
    "print(f\"The reversed number is: {result}\")"
   ]
  },
  {
   "cell_type": "markdown",
   "id": "326d955f",
   "metadata": {},
   "source": [
    "Q9"
   ]
  },
  {
   "cell_type": "code",
   "execution_count": 30,
   "id": "388b1c01",
   "metadata": {},
   "outputs": [],
   "source": [
    "def sum_first_last(number):\n",
    "    last_digit = number % 10 \n",
    "    first_digit = number // 1000\n",
    "    return first_digit + last_digit"
   ]
  },
  {
   "cell_type": "code",
   "execution_count": 31,
   "id": "b397399b",
   "metadata": {},
   "outputs": [
    {
     "name": "stdout",
     "output_type": "stream",
     "text": [
      "Enter a four-digit number: 5115\n"
     ]
    }
   ],
   "source": [
    "number = int(input(\"Enter a four-digit number: \"))\n",
    "result = sum_first_last(number)"
   ]
  },
  {
   "cell_type": "code",
   "execution_count": 32,
   "id": "9b9d35bd",
   "metadata": {},
   "outputs": [
    {
     "name": "stdout",
     "output_type": "stream",
     "text": [
      "The sum of the first and last digit is: 10\n"
     ]
    }
   ],
   "source": [
    "print(f\"The sum of the first and last digit is: {result}\")"
   ]
  },
  {
   "cell_type": "markdown",
   "id": "efd9f6aa",
   "metadata": {},
   "source": [
    "Q10"
   ]
  },
  {
   "cell_type": "code",
   "execution_count": 33,
   "id": "2b51a5e2",
   "metadata": {},
   "outputs": [],
   "source": [
    "def calculate_illiterates(total_population, percent_men, percent_literacy, percent_literate_men):\n",
    "    number_of_men = total_population * (percent_men / 100)\n",
    "    number_of_women = total_population - number_of_men\n",
    "\n",
    "    literate_men = total_population * (percent_literate_men / 100)\n",
    "\n",
    "    total_literate = total_population * (percent_literacy / 100)\n",
    "\n",
    "    literate_women = total_literate - literate_men\n",
    "\n",
    "    illiterate_men = number_of_men - literate_men\n",
    "    illiterate_women = number_of_women - literate_women\n",
    "    \n",
    "    return illiterate_men, illiterate_women"
   ]
  },
  {
   "cell_type": "code",
   "execution_count": 34,
   "id": "5a00f760",
   "metadata": {},
   "outputs": [],
   "source": [
    "total_population = 80000\n",
    "percent_men = 52\n",
    "percent_literacy = 48\n",
    "percent_literate_men = 35"
   ]
  },
  {
   "cell_type": "code",
   "execution_count": 35,
   "id": "9d9b5e5b",
   "metadata": {},
   "outputs": [],
   "source": [
    "illiterate_men, illiterate_women = calculate_illiterates(total_population, percent_men, percent_literacy, percent_literate_men)"
   ]
  },
  {
   "cell_type": "code",
   "execution_count": 36,
   "id": "7de783a9",
   "metadata": {},
   "outputs": [
    {
     "name": "stdout",
     "output_type": "stream",
     "text": [
      "Total number of illiterate men: 13600\n",
      "Total number of illiterate women: 28000\n"
     ]
    }
   ],
   "source": [
    "print(f\"Total number of illiterate men: {int(illiterate_men)}\")\n",
    "print(f\"Total number of illiterate women: {int(illiterate_women)}\")"
   ]
  },
  {
   "cell_type": "markdown",
   "id": "9f7a3b8b",
   "metadata": {},
   "source": [
    "Q11"
   ]
  },
  {
   "cell_type": "code",
   "execution_count": 37,
   "id": "caee342b",
   "metadata": {},
   "outputs": [],
   "source": [
    "def calculate_notes(amount):\n",
    "    notes_100 = amount // 100\n",
    "    amount %= 100\n",
    "\n",
    "    notes_50 = amount // 50\n",
    "    amount %= 50\n",
    "\n",
    "    notes_10 = amount // 10\n",
    "\n",
    "    return notes_100, notes_50, notes_10"
   ]
  },
  {
   "cell_type": "code",
   "execution_count": 38,
   "id": "0f59ccff",
   "metadata": {},
   "outputs": [
    {
     "name": "stdout",
     "output_type": "stream",
     "text": [
      "Enter the amount to be withdrawn (in hundreds): 20000\n"
     ]
    }
   ],
   "source": [
    "amount = int(input(\"Enter the amount to be withdrawn (in hundreds): \"))\n",
    "notes_100, notes_50, notes_10 = calculate_notes(amount)"
   ]
  },
  {
   "cell_type": "code",
   "execution_count": 39,
   "id": "63d87461",
   "metadata": {},
   "outputs": [
    {
     "name": "stdout",
     "output_type": "stream",
     "text": [
      "₹100 notes: 200\n",
      "₹50 notes: 0\n",
      "₹10 notes: 0\n"
     ]
    }
   ],
   "source": [
    "print(f\"₹100 notes: {notes_100}\")\n",
    "print(f\"₹50 notes: {notes_50}\")\n",
    "print(f\"₹10 notes: {notes_10}\")"
   ]
  },
  {
   "cell_type": "markdown",
   "id": "3ec848f2",
   "metadata": {},
   "source": [
    "Q12"
   ]
  },
  {
   "cell_type": "code",
   "execution_count": 40,
   "id": "9bc5c187",
   "metadata": {},
   "outputs": [],
   "source": [
    "def calculate_cost_price(total_selling_price, total_profit, number_of_items):\n",
    "    total_cost_price = total_selling_price - total_profit\n",
    "    cost_price_per_item = total_cost_price / number_of_items\n",
    "    return cost_price_per_item"
   ]
  },
  {
   "cell_type": "code",
   "execution_count": 41,
   "id": "69ab5c04",
   "metadata": {},
   "outputs": [
    {
     "name": "stdout",
     "output_type": "stream",
     "text": [
      "Enter the total selling price of 15 items: 1236\n",
      "Enter the total profit earned on these items: 12\n"
     ]
    }
   ],
   "source": [
    "total_selling_price = float(input(\"Enter the total selling price of 15 items: \"))\n",
    "total_profit = float(input(\"Enter the total profit earned on these items: \"))"
   ]
  },
  {
   "cell_type": "code",
   "execution_count": 42,
   "id": "f7d92d89",
   "metadata": {},
   "outputs": [],
   "source": [
    "cost_item = calculate_cost_price(total_selling_price, total_profit, 15)"
   ]
  },
  {
   "cell_type": "code",
   "execution_count": 43,
   "id": "98e5da78",
   "metadata": {},
   "outputs": [
    {
     "name": "stdout",
     "output_type": "stream",
     "text": [
      "The cost price of one item is:81.60\n"
     ]
    }
   ],
   "source": [
    "print(f\"The cost price of one item is:{cost_item:.2f}\")"
   ]
  },
  {
   "cell_type": "markdown",
   "id": "0e580e5d",
   "metadata": {},
   "source": [
    "Q13"
   ]
  },
  {
   "cell_type": "code",
   "execution_count": 44,
   "id": "47dc685b",
   "metadata": {},
   "outputs": [],
   "source": [
    "def increment_digits(number):\n",
    "    new_number = \"\"\n",
    "    while number > 0:\n",
    "        digit = number % 10\n",
    "        incremented_digit = (digit + 1) % 10\n",
    "        new_number = str(incremented_digit) + new_number\n",
    "        number //= 10\n",
    "    return new_number"
   ]
  },
  {
   "cell_type": "code",
   "execution_count": 45,
   "id": "f7fa2083",
   "metadata": {},
   "outputs": [
    {
     "name": "stdout",
     "output_type": "stream",
     "text": [
      "Enter a five-digit number: 56225\n"
     ]
    }
   ],
   "source": [
    "number = int(input(\"Enter a five-digit number: \"))\n",
    "new_number = increment_digits(number)"
   ]
  },
  {
   "cell_type": "code",
   "execution_count": 46,
   "id": "d0556f03",
   "metadata": {},
   "outputs": [
    {
     "name": "stdout",
     "output_type": "stream",
     "text": [
      "The new number is: 67336\n"
     ]
    }
   ],
   "source": [
    "print(f\"The new number is: {new_number}\")"
   ]
  },
  {
   "cell_type": "markdown",
   "id": "97fa7259",
   "metadata": {},
   "source": [
    "# Task 2"
   ]
  },
  {
   "cell_type": "markdown",
   "id": "5cac7b47",
   "metadata": {},
   "source": [
    "Q1"
   ]
  },
  {
   "cell_type": "code",
   "execution_count": 47,
   "id": "3d89e3fa",
   "metadata": {},
   "outputs": [],
   "source": [
    "def calculate_total_expenses(quantity, price_per_item):\n",
    "    total_cost = quantity * price_per_item\n",
    "    if quantity > 10:\n",
    "        total_cost *= 0.9\n",
    "    return total_cost"
   ]
  },
  {
   "cell_type": "code",
   "execution_count": 48,
   "id": "c9d2e500",
   "metadata": {},
   "outputs": [
    {
     "name": "stdout",
     "output_type": "stream",
     "text": [
      "Enter the quantity of items: 12\n",
      "Enter the price per item: 55\n"
     ]
    }
   ],
   "source": [
    "quantity = int(input(\"Enter the quantity of items: \"))\n",
    "price_per_item = float(input(\"Enter the price per item: \"))"
   ]
  },
  {
   "cell_type": "code",
   "execution_count": 49,
   "id": "f092ec1a",
   "metadata": {},
   "outputs": [
    {
     "name": "stdout",
     "output_type": "stream",
     "text": [
      "The total expenses are: $594.00\n"
     ]
    }
   ],
   "source": [
    "total_expenses = calculate_total_expenses(quantity, price_per_item)\n",
    "print(f\"The total expenses are: ${total_expenses:.2f}\")"
   ]
  },
  {
   "cell_type": "markdown",
   "id": "641576d9",
   "metadata": {},
   "source": [
    "Q2"
   ]
  },
  {
   "cell_type": "code",
   "execution_count": 50,
   "id": "c3c1da8d",
   "metadata": {},
   "outputs": [],
   "source": [
    "def calculate_bonus(current_year, joining_year):\n",
    "    years_of_service = current_year - joining_year\n",
    "    if years_of_service > 3:\n",
    "        return 2500\n",
    "    else:\n",
    "        return 0"
   ]
  },
  {
   "cell_type": "code",
   "execution_count": 51,
   "id": "e1c98899",
   "metadata": {},
   "outputs": [
    {
     "name": "stdout",
     "output_type": "stream",
     "text": [
      "Enter the current year: 2023\n",
      "Enter the year the employee joined the organization: 2018\n"
     ]
    }
   ],
   "source": [
    "current_year = int(input(\"Enter the current year: \"))\n",
    "joining_year = int(input(\"Enter the year the employee joined the organization: \"))"
   ]
  },
  {
   "cell_type": "code",
   "execution_count": 52,
   "id": "dee6eba2",
   "metadata": {},
   "outputs": [
    {
     "name": "stdout",
     "output_type": "stream",
     "text": [
      "The employee receives a bonus of Rs. 2500/-\n"
     ]
    }
   ],
   "source": [
    "bonus = calculate_bonus(current_year, joining_year)\n",
    "\n",
    "if bonus > 0:\n",
    "    print(f\"The employee receives a bonus of Rs. {bonus}/-\")\n",
    "else:\n",
    "    print(\"No bonus is given.\")"
   ]
  },
  {
   "cell_type": "markdown",
   "id": "89e91ebb",
   "metadata": {},
   "source": [
    "Q3"
   ]
  },
  {
   "cell_type": "code",
   "execution_count": 53,
   "id": "d7cf2479",
   "metadata": {},
   "outputs": [],
   "source": [
    "def calculate_gross_salary(basic_salary):\n",
    "    if basic_salary < 1500:\n",
    "        HRA = 0.1 * basic_salary\n",
    "        DA = 0.9 * basic_salary\n",
    "    else:\n",
    "        HRA = 500\n",
    "        DA = 0.98 * basic_salary \n",
    "    gross_salary = basic_salary + HRA + DA\n",
    "    return gross_salary"
   ]
  },
  {
   "cell_type": "code",
   "execution_count": 54,
   "id": "7c8a12d3",
   "metadata": {},
   "outputs": [
    {
     "name": "stdout",
     "output_type": "stream",
     "text": [
      "Enter the employee's basic salary: 35000\n"
     ]
    }
   ],
   "source": [
    "basic_salary = float(input(\"Enter the employee's basic salary: \"))\n",
    "gross_salary = calculate_gross_salary(basic_salary)"
   ]
  },
  {
   "cell_type": "code",
   "execution_count": 55,
   "id": "f0c5eb95",
   "metadata": {},
   "outputs": [
    {
     "name": "stdout",
     "output_type": "stream",
     "text": [
      "The employee's gross salary is: 69800.00\n"
     ]
    }
   ],
   "source": [
    "print(f\"The employee's gross salary is: {gross_salary:.2f}\")"
   ]
  },
  {
   "cell_type": "markdown",
   "id": "d35f0368",
   "metadata": {},
   "source": [
    "Q4"
   ]
  },
  {
   "cell_type": "code",
   "execution_count": 56,
   "id": "d5c6b8a4",
   "metadata": {},
   "outputs": [],
   "source": [
    "def calculate_division(marks):\n",
    "    total_marks = sum(marks)\n",
    "    percentage = (total_marks / (100 * len(marks))) * 100\n",
    "\n",
    "    if percentage >= 60:\n",
    "        return 'First division'\n",
    "    elif percentage >= 50:\n",
    "        return 'Second division'\n",
    "    elif percentage >= 40:\n",
    "        return 'Third division'\n",
    "    else:\n",
    "        return 'Fail'"
   ]
  },
  {
   "cell_type": "code",
   "execution_count": 57,
   "id": "1f72a7bf",
   "metadata": {},
   "outputs": [
    {
     "name": "stdout",
     "output_type": "stream",
     "text": [
      "Enter marks for subject 1: 87\n",
      "Enter marks for subject 2: 91\n",
      "Enter marks for subject 3: 78\n",
      "Enter marks for subject 4: 64\n",
      "Enter marks for subject 5: 83\n"
     ]
    }
   ],
   "source": [
    "marks = []\n",
    "for i in range(1, 6):\n",
    "    mark = float(input(f\"Enter marks for subject {i}: \"))\n",
    "    marks.append(mark)"
   ]
  },
  {
   "cell_type": "code",
   "execution_count": 58,
   "id": "d34aa8b5",
   "metadata": {},
   "outputs": [
    {
     "name": "stdout",
     "output_type": "stream",
     "text": [
      "The student is: First division\n"
     ]
    }
   ],
   "source": [
    "division = calculate_division(marks)\n",
    "print(f\"The student is: {division}\")"
   ]
  },
  {
   "cell_type": "markdown",
   "id": "1d4a5839",
   "metadata": {},
   "source": [
    "Q5"
   ]
  },
  {
   "cell_type": "code",
   "execution_count": 59,
   "id": "c0bf17bd",
   "metadata": {},
   "outputs": [],
   "source": [
    "def is_eligible_for_insurance(marital_status, gender, age):\n",
    "    if marital_status.lower() == 'married':\n",
    "        return True\n",
    "    elif marital_status.lower() == 'unmarried':\n",
    "        if gender.lower() == 'male' and age > 30:\n",
    "            return True\n",
    "        elif gender.lower() == 'female' and age > 25:\n",
    "            return True\n",
    "    return False"
   ]
  },
  {
   "cell_type": "code",
   "execution_count": 60,
   "id": "e0c1c965",
   "metadata": {},
   "outputs": [
    {
     "name": "stdout",
     "output_type": "stream",
     "text": [
      "Enter the marital status (married/unmarried): unmarried\n",
      "Enter the gender (male/female): female\n",
      "Enter the age: 59\n"
     ]
    }
   ],
   "source": [
    "marital_status = input(\"Enter the marital status (married/unmarried): \")\n",
    "gender = input(\"Enter the gender (male/female): \")\n",
    "age = int(input(\"Enter the age: \"))"
   ]
  },
  {
   "cell_type": "code",
   "execution_count": 61,
   "id": "b65f154c",
   "metadata": {},
   "outputs": [
    {
     "name": "stdout",
     "output_type": "stream",
     "text": [
      "The driver is eligible for insurance.\n"
     ]
    }
   ],
   "source": [
    "eligible = is_eligible_for_insurance(marital_status, gender, age)\n",
    "\n",
    "if eligible:\n",
    "    print(\"The driver is eligible for insurance.\")\n",
    "else:\n",
    "    print(\"The driver is not eligible for insurance.\")"
   ]
  },
  {
   "cell_type": "markdown",
   "id": "1bf49dd2",
   "metadata": {},
   "source": [
    "Q6"
   ]
  },
  {
   "cell_type": "code",
   "execution_count": 62,
   "id": "1e88f762",
   "metadata": {},
   "outputs": [],
   "source": [
    "def calculate_salary(gender, years_of_service, qualification):\n",
    "    if gender.lower() == 'male':\n",
    "        if years_of_service >= 10:\n",
    "            if qualification.lower() == 'post-graduate':\n",
    "                return 15000\n",
    "            elif qualification.lower() == 'graduate':\n",
    "                return 10000\n",
    "        elif years_of_service < 10:\n",
    "            if qualification.lower() == 'post-graduate':\n",
    "                return 10000\n",
    "            elif qualification.lower() == 'graduate':\n",
    "                return 7000\n",
    "    elif gender.lower() == 'female':\n",
    "        if years_of_service >= 10:\n",
    "            if qualification.lower() == 'post-graduate':\n",
    "                return 12000\n",
    "            elif qualification.lower() == 'graduate':\n",
    "                return 9000\n",
    "        elif years_of_service < 10:\n",
    "            if qualification.lower() == 'post-graduate':\n",
    "                return 10000\n",
    "            elif qualification.lower() == 'graduate':\n",
    "                return 6000\n",
    "    return 0"
   ]
  },
  {
   "cell_type": "code",
   "execution_count": 63,
   "id": "b109d0ef",
   "metadata": {},
   "outputs": [
    {
     "name": "stdout",
     "output_type": "stream",
     "text": [
      "Enter the gender (Male/Female): Female\n",
      "Enter the years of service: 5\n",
      "Enter the qualification (Graduate/Post-Graduate): Graduate\n"
     ]
    }
   ],
   "source": [
    "gender = input(\"Enter the gender (Male/Female): \")\n",
    "years_of_service = int(input(\"Enter the years of service: \"))\n",
    "qualification = input(\"Enter the qualification (Graduate/Post-Graduate): \")"
   ]
  },
  {
   "cell_type": "code",
   "execution_count": 64,
   "id": "61471bd2",
   "metadata": {},
   "outputs": [
    {
     "name": "stdout",
     "output_type": "stream",
     "text": [
      "The salary is: $6000\n"
     ]
    }
   ],
   "source": [
    "salary = calculate_salary(gender, years_of_service, qualification)\n",
    "print(f\"The salary is: ${salary}\")"
   ]
  },
  {
   "cell_type": "markdown",
   "id": "657c7f1c",
   "metadata": {},
   "source": [
    "Q7"
   ]
  },
  {
   "cell_type": "code",
   "execution_count": 65,
   "id": "f08fee65",
   "metadata": {},
   "outputs": [],
   "source": [
    "def calculate_profit_or_loss(cost_price, selling_price):\n",
    "    if selling_price > cost_price:\n",
    "        profit = selling_price - cost_price\n",
    "        return f\"Profit of ${profit}\"\n",
    "    elif selling_price < cost_price:\n",
    "        loss = cost_price - selling_price\n",
    "        return f\"Loss of ${loss}\"\n",
    "    else:\n",
    "        return \"No profit or loss\""
   ]
  },
  {
   "cell_type": "code",
   "execution_count": 66,
   "id": "2b513bcd",
   "metadata": {},
   "outputs": [
    {
     "name": "stdout",
     "output_type": "stream",
     "text": [
      "Enter the cost price of the item: 56\n",
      "Enter the selling price of the item: 53\n"
     ]
    }
   ],
   "source": [
    "cost_price = float(input(\"Enter the cost price of the item: \"))\n",
    "selling_price = float(input(\"Enter the selling price of the item: \"))"
   ]
  },
  {
   "cell_type": "code",
   "execution_count": 67,
   "id": "3fb42d98",
   "metadata": {},
   "outputs": [
    {
     "name": "stdout",
     "output_type": "stream",
     "text": [
      "Loss of $3.0\n"
     ]
    }
   ],
   "source": [
    "result = calculate_profit_or_loss(cost_price, selling_price)\n",
    "print(result)"
   ]
  },
  {
   "cell_type": "markdown",
   "id": "75a12c0f",
   "metadata": {},
   "source": [
    "Q8"
   ]
  },
  {
   "cell_type": "code",
   "execution_count": 68,
   "id": "202e02d6",
   "metadata": {},
   "outputs": [],
   "source": [
    "def check_odd_even(number):\n",
    "    if number % 2 == 0:\n",
    "        return \"Even\"\n",
    "    else:\n",
    "        return \"Odd\""
   ]
  },
  {
   "cell_type": "code",
   "execution_count": 69,
   "id": "0c5e9d7a",
   "metadata": {},
   "outputs": [
    {
     "name": "stdout",
     "output_type": "stream",
     "text": [
      "Enter an integer: 15\n",
      "The number is Odd.\n"
     ]
    }
   ],
   "source": [
    "number = int(input(\"Enter an integer: \"))\n",
    "result = check_odd_even(number)\n",
    "\n",
    "print(f\"The number is {result}.\")"
   ]
  },
  {
   "cell_type": "markdown",
   "id": "2ba0e49c",
   "metadata": {},
   "source": [
    "Q9"
   ]
  },
  {
   "cell_type": "code",
   "execution_count": 70,
   "id": "efd42a4b",
   "metadata": {},
   "outputs": [],
   "source": [
    "def reverse_number(number):\n",
    "    reversed_number = 0\n",
    "    original_number = number \n",
    "    while number > 0:\n",
    "        last_digit = number % 10\n",
    "        reversed_number = reversed_number * 10 + last_digit\n",
    "        number //= 10\n",
    "    return reversed_number, original_number"
   ]
  },
  {
   "cell_type": "code",
   "execution_count": 71,
   "id": "0d1ee2b8",
   "metadata": {},
   "outputs": [
    {
     "name": "stdout",
     "output_type": "stream",
     "text": [
      "Enter a five-digit number: 15514\n"
     ]
    }
   ],
   "source": [
    "number = int(input(\"Enter a five-digit number: \"))\n",
    "\n",
    "reversed_number, original_number = reverse_number(number)"
   ]
  },
  {
   "cell_type": "code",
   "execution_count": 72,
   "id": "b868a128",
   "metadata": {},
   "outputs": [
    {
     "name": "stdout",
     "output_type": "stream",
     "text": [
      "The number 15514 is not equal to its reverse 41551.\n"
     ]
    }
   ],
   "source": [
    "if reversed_number == original_number:\n",
    "    print(f\"The number {original_number} is equal to its reverse {reversed_number}.\")\n",
    "else:\n",
    "    print(f\"The number {original_number} is not equal to its reverse {reversed_number}.\")"
   ]
  },
  {
   "cell_type": "markdown",
   "id": "f2ea3f65",
   "metadata": {},
   "source": [
    "Q10"
   ]
  },
  {
   "cell_type": "code",
   "execution_count": 73,
   "id": "d55240a7",
   "metadata": {},
   "outputs": [],
   "source": [
    "def find_youngest(ram_age, shyam_age, ajay_age):\n",
    "    if ram_age < shyam_age and ram_age < ajay_age:\n",
    "        return \"Ram is the youngest.\"\n",
    "    elif shyam_age < ajay_age:\n",
    "        return \"Shyam is the youngest.\"\n",
    "    else:\n",
    "        return \"Ajay is the youngest.\""
   ]
  },
  {
   "cell_type": "code",
   "execution_count": 74,
   "id": "3e0c75b2",
   "metadata": {},
   "outputs": [
    {
     "name": "stdout",
     "output_type": "stream",
     "text": [
      "Enter Ram's age: 14\n",
      "Enter Shyam's age: 15\n",
      "Enter Ajay's age: 16\n"
     ]
    }
   ],
   "source": [
    "ram_age = int(input(\"Enter Ram's age: \"))\n",
    "shyam_age = int(input(\"Enter Shyam's age: \"))\n",
    "ajay_age = int(input(\"Enter Ajay's age: \"))"
   ]
  },
  {
   "cell_type": "code",
   "execution_count": 75,
   "id": "4a2b1de2",
   "metadata": {},
   "outputs": [
    {
     "name": "stdout",
     "output_type": "stream",
     "text": [
      "Ram is the youngest.\n"
     ]
    }
   ],
   "source": [
    "youngest = find_youngest(ram_age, shyam_age, ajay_age)\n",
    "print(youngest)"
   ]
  },
  {
   "cell_type": "markdown",
   "id": "70f31a08",
   "metadata": {},
   "source": [
    "Q11"
   ]
  },
  {
   "cell_type": "code",
   "execution_count": 76,
   "id": "4c3aef9b",
   "metadata": {},
   "outputs": [],
   "source": [
    "def is_valid_triangle(angle1, angle2, angle3):\n",
    "    if angle1 + angle2 + angle3 == 180:\n",
    "        return \"The angles form a valid triangle.\"\n",
    "    else:\n",
    "        return \"The angles do not form a valid triangle.\""
   ]
  },
  {
   "cell_type": "code",
   "execution_count": 77,
   "id": "15e2b905",
   "metadata": {},
   "outputs": [
    {
     "name": "stdout",
     "output_type": "stream",
     "text": [
      "Enter the first angle of the triangle: 3\n",
      "Enter the second angle of the triangle: 2\n",
      "Enter the third angle of the triangle: 1\n"
     ]
    }
   ],
   "source": [
    "angle1 = float(input(\"Enter the first angle of the triangle: \"))\n",
    "angle2 = float(input(\"Enter the second angle of the triangle: \"))\n",
    "angle3 = float(input(\"Enter the third angle of the triangle: \"))"
   ]
  },
  {
   "cell_type": "code",
   "execution_count": 78,
   "id": "59b3125f",
   "metadata": {},
   "outputs": [
    {
     "name": "stdout",
     "output_type": "stream",
     "text": [
      "The angles do not form a valid triangle.\n"
     ]
    }
   ],
   "source": [
    "result = is_valid_triangle(angle1, angle2, angle3)\n",
    "print(result)"
   ]
  },
  {
   "cell_type": "markdown",
   "id": "a5cba554",
   "metadata": {},
   "source": [
    "Q12"
   ]
  },
  {
   "cell_type": "code",
   "execution_count": 79,
   "id": "d86fb1eb",
   "metadata": {},
   "outputs": [],
   "source": [
    "def find_absolute_value(number):\n",
    "    return abs(number)"
   ]
  },
  {
   "cell_type": "code",
   "execution_count": 80,
   "id": "fd4654fd",
   "metadata": {},
   "outputs": [
    {
     "name": "stdout",
     "output_type": "stream",
     "text": [
      "Enter a number: 25\n",
      "The absolute value of the number is: 25.0\n"
     ]
    }
   ],
   "source": [
    "number = float(input(\"Enter a number: \"))\n",
    "absolute_value = find_absolute_value(number)\n",
    "\n",
    "print(f\"The absolute value of the number is: {absolute_value}\")"
   ]
  },
  {
   "cell_type": "markdown",
   "id": "3fb815af",
   "metadata": {},
   "source": [
    "Q13"
   ]
  },
  {
   "cell_type": "code",
   "execution_count": 81,
   "id": "b42f6edf",
   "metadata": {},
   "outputs": [],
   "source": [
    "def rectangle_comparison(length, breadth):\n",
    "    area = length * breadth\n",
    "    perimeter = 2 * (length + breadth)\n",
    "    \n",
    "    if area > perimeter:\n",
    "        return f\"The area of the rectangle ({area}) is greater than its perimeter ({perimeter}).\"\n",
    "    else:\n",
    "        return f\"The area of the rectangle ({area}) is not greater than its perimeter ({perimeter}).\""
   ]
  },
  {
   "cell_type": "code",
   "execution_count": 82,
   "id": "9778f2ef",
   "metadata": {},
   "outputs": [
    {
     "name": "stdout",
     "output_type": "stream",
     "text": [
      "Enter the length of the rectangle: 32\n",
      "Enter the breadth of the rectangle: 34\n"
     ]
    }
   ],
   "source": [
    "length = float(input(\"Enter the length of the rectangle: \"))\n",
    "breadth = float(input(\"Enter the breadth of the rectangle: \"))"
   ]
  },
  {
   "cell_type": "code",
   "execution_count": 83,
   "id": "aed5d347",
   "metadata": {},
   "outputs": [
    {
     "name": "stdout",
     "output_type": "stream",
     "text": [
      "The area of the rectangle (1088.0) is greater than its perimeter (132.0).\n"
     ]
    }
   ],
   "source": [
    "result = rectangle_comparison(length, breadth)\n",
    "print(result)"
   ]
  },
  {
   "cell_type": "markdown",
   "id": "a302f727",
   "metadata": {},
   "source": [
    "Q14"
   ]
  },
  {
   "cell_type": "code",
   "execution_count": 84,
   "id": "bd1a38f6",
   "metadata": {},
   "outputs": [],
   "source": [
    "def is_leap_year(year):\n",
    "    return (year % 4 == 0 and year % 100 != 0) or (year % 400 == 0)"
   ]
  },
  {
   "cell_type": "code",
   "execution_count": 85,
   "id": "c558e74d",
   "metadata": {},
   "outputs": [
    {
     "name": "stdout",
     "output_type": "stream",
     "text": [
      "Enter a year: 2028\n",
      "2028 is a leap year.\n"
     ]
    }
   ],
   "source": [
    "year = int(input(\"Enter a year: \"))\n",
    "\n",
    "if is_leap_year(year):\n",
    "    print(f\"{year} is a leap year.\")\n",
    "else:\n",
    "    print(f\"{year} is not a leap year.\")"
   ]
  },
  {
   "cell_type": "markdown",
   "id": "49c589eb",
   "metadata": {},
   "source": [
    "Q15"
   ]
  },
  {
   "cell_type": "code",
   "execution_count": 86,
   "id": "ddc26bcf",
   "metadata": {},
   "outputs": [],
   "source": [
    "def determine_steel_grade(hardness, carbon_content, tensile_strength):\n",
    "    condition1 = hardness > 50\n",
    "    condition2 = carbon_content < 0.7\n",
    "    condition3 = tensile_strength > 5600\n",
    "    \n",
    "    if condition1 and condition2 and condition3:\n",
    "        return 10\n",
    "    elif condition1 and condition2:\n",
    "        return 9\n",
    "    elif condition2 and condition3:\n",
    "        return 8\n",
    "    elif condition1 and condition3:\n",
    "        return 7\n",
    "    elif condition1 or condition2 or condition3:\n",
    "        return 6\n",
    "    else:\n",
    "        return 5"
   ]
  },
  {
   "cell_type": "code",
   "execution_count": 87,
   "id": "80c3cc4f",
   "metadata": {},
   "outputs": [
    {
     "name": "stdout",
     "output_type": "stream",
     "text": [
      "Enter the hardness of the steel: 56\n",
      "Enter the carbon content of the steel (as a fraction): 53\n",
      "Enter the tensile strength of the steel: 51\n"
     ]
    }
   ],
   "source": [
    "hardness = float(input(\"Enter the hardness of the steel: \"))\n",
    "carbon_content = float(input(\"Enter the carbon content of the steel (as a fraction): \"))\n",
    "tensile_strength = float(input(\"Enter the tensile strength of the steel: \"))"
   ]
  },
  {
   "cell_type": "code",
   "execution_count": 88,
   "id": "12f2b5c4",
   "metadata": {},
   "outputs": [
    {
     "name": "stdout",
     "output_type": "stream",
     "text": [
      "The grade of the steel is: 6\n"
     ]
    }
   ],
   "source": [
    "grade = determine_steel_grade(hardness, carbon_content, tensile_strength)\n",
    "print(f\"The grade of the steel is: {grade}\")"
   ]
  },
  {
   "cell_type": "markdown",
   "id": "e2fc3d26",
   "metadata": {},
   "source": [
    "Q16"
   ]
  },
  {
   "cell_type": "code",
   "execution_count": 89,
   "id": "c109a1f4",
   "metadata": {},
   "outputs": [],
   "source": [
    "def calculate_fine(days_late):\n",
    "    if days_late > 30:\n",
    "        return \"Your membership will be cancelled.\"\n",
    "    elif days_late > 10:\n",
    "        return f\"The fine is Rs. 5 for being {days_late} days late.\"\n",
    "    elif days_late > 5:\n",
    "        return f\"The fine is Rs. 1 for being {days_late} days late.\"\n",
    "    elif days_late > 0:\n",
    "        return f\"The fine is 50 paise for being {days_late} days late.\"\n",
    "    else:\n",
    "        return \"No fine, you returned the book on time.\""
   ]
  },
  {
   "cell_type": "code",
   "execution_count": 90,
   "id": "2218dc16",
   "metadata": {},
   "outputs": [
    {
     "name": "stdout",
     "output_type": "stream",
     "text": [
      "Enter the number of days late to return the book: 12\n"
     ]
    }
   ],
   "source": [
    "days_late = int(input(\"Enter the number of days late to return the book: \"))"
   ]
  },
  {
   "cell_type": "code",
   "execution_count": 91,
   "id": "86595d8a",
   "metadata": {},
   "outputs": [
    {
     "name": "stdout",
     "output_type": "stream",
     "text": [
      "The fine is Rs. 5 for being 12 days late.\n"
     ]
    }
   ],
   "source": [
    "message = calculate_fine(days_late)\n",
    "print(message)"
   ]
  },
  {
   "cell_type": "markdown",
   "id": "9f2fde6a",
   "metadata": {},
   "source": [
    "Q17"
   ]
  },
  {
   "cell_type": "code",
   "execution_count": 92,
   "id": "4de51e3a",
   "metadata": {},
   "outputs": [],
   "source": [
    "def evaluate_efficiency(time_taken):\n",
    "    if time_taken >= 2 and time_taken <= 3:\n",
    "        return \"Highly efficient.\"\n",
    "    elif time_taken > 3 and time_taken <= 4:\n",
    "        return \"Ordered to improve speed.\"\n",
    "    elif time_taken > 4 and time_taken <= 5:\n",
    "        return \"Given training to improve speed.\"\n",
    "    elif time_taken > 5:\n",
    "        return \"Has to leave the company.\"\n",
    "    else:\n",
    "        return \"Invalid time input.\""
   ]
  },
  {
   "cell_type": "code",
   "execution_count": 93,
   "id": "25206e83",
   "metadata": {},
   "outputs": [
    {
     "name": "stdout",
     "output_type": "stream",
     "text": [
      "Enter the time taken by the worker to complete the job (in hours): 13\n",
      "Has to leave the company.\n"
     ]
    }
   ],
   "source": [
    "time_taken = float(input(\"Enter the time taken by the worker to complete the job (in hours): \"))\n",
    "\n",
    "efficiency = evaluate_efficiency(time_taken)\n",
    "print(efficiency)"
   ]
  }
 ],
 "metadata": {
  "kernelspec": {
   "display_name": "Python 3 (ipykernel)",
   "language": "python",
   "name": "python3"
  },
  "language_info": {
   "codemirror_mode": {
    "name": "ipython",
    "version": 3
   },
   "file_extension": ".py",
   "mimetype": "text/x-python",
   "name": "python",
   "nbconvert_exporter": "python",
   "pygments_lexer": "ipython3",
   "version": "3.11.4"
  }
 },
 "nbformat": 4,
 "nbformat_minor": 5
}
