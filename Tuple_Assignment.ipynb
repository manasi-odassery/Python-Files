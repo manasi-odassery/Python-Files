{
 "cells": [
  {
   "cell_type": "markdown",
   "id": "82cf1ba5",
   "metadata": {},
   "source": [
    "Q1"
   ]
  },
  {
   "cell_type": "code",
   "execution_count": 1,
   "id": "d308e8fb",
   "metadata": {},
   "outputs": [
    {
     "name": "stdout",
     "output_type": "stream",
     "text": [
      "Tuple = ()\n"
     ]
    }
   ],
   "source": [
    "my_tuple = ()\n",
    "print(\"Tuple =\", my_tuple)"
   ]
  },
  {
   "cell_type": "markdown",
   "id": "c64b80cc",
   "metadata": {},
   "source": [
    "Q2"
   ]
  },
  {
   "cell_type": "code",
   "execution_count": 2,
   "id": "dfcd7913",
   "metadata": {},
   "outputs": [
    {
     "name": "stdout",
     "output_type": "stream",
     "text": [
      "('Tutor Joes', True, 'T', 3.21, 10)\n"
     ]
    }
   ],
   "source": [
    "mixed_tuple = ('Tutor Joes', True, 'T', 3.21, 10)\n",
    "print(mixed_tuple)"
   ]
  },
  {
   "cell_type": "markdown",
   "id": "0ca0ab50",
   "metadata": {},
   "source": [
    "Q3"
   ]
  },
  {
   "cell_type": "code",
   "execution_count": 3,
   "id": "7fd0c524",
   "metadata": {},
   "outputs": [
    {
     "name": "stdout",
     "output_type": "stream",
     "text": [
      "10\n",
      "Type = tuple\n"
     ]
    }
   ],
   "source": [
    "numbers = (5, 10, 15)\n",
    "\n",
    "print(numbers[1]) \n",
    "print(\"Type =\", type(numbers).__name__)"
   ]
  },
  {
   "cell_type": "markdown",
   "id": "6cff1722",
   "metadata": {},
   "source": [
    "Q4"
   ]
  },
  {
   "cell_type": "code",
   "execution_count": 4,
   "id": "6f3f1b89",
   "metadata": {},
   "outputs": [],
   "source": [
    "number_tuple = (4, 8, 3)\n",
    "\n",
    "a, b, c = number_tuple"
   ]
  },
  {
   "cell_type": "code",
   "execution_count": 5,
   "id": "257c7903",
   "metadata": {},
   "outputs": [
    {
     "name": "stdout",
     "output_type": "stream",
     "text": [
      "a = 4 8 3\n",
      "(4, 8, 3)\n"
     ]
    }
   ],
   "source": [
    "print(\"a =\", a, b, c)\n",
    "print((a, b, c))"
   ]
  },
  {
   "cell_type": "markdown",
   "id": "564ced7b",
   "metadata": {},
   "source": [
    "Q5"
   ]
  },
  {
   "cell_type": "code",
   "execution_count": 6,
   "id": "6aa3e7f0",
   "metadata": {},
   "outputs": [],
   "source": [
    "og_tuple = (10, 40, 50, 70, 90)\n",
    "item = 20\n",
    "\n",
    "new_tuple = og_tuple + (item,)"
   ]
  },
  {
   "cell_type": "code",
   "execution_count": 7,
   "id": "321e1717",
   "metadata": {},
   "outputs": [
    {
     "name": "stdout",
     "output_type": "stream",
     "text": [
      "Original tuple: (10, 40, 50, 70, 90)\n",
      "New tuple after adding item: (10, 40, 50, 70, 90, 20)\n"
     ]
    }
   ],
   "source": [
    "print(\"Original tuple:\", og_tuple)\n",
    "print(\"New tuple after adding item:\", new_tuple)"
   ]
  },
  {
   "cell_type": "markdown",
   "id": "af7108c4",
   "metadata": {},
   "source": [
    "Q6"
   ]
  },
  {
   "cell_type": "code",
   "execution_count": 8,
   "id": "de9a3a46",
   "metadata": {},
   "outputs": [],
   "source": [
    "char_tuple = ('T', 'u', 't', 'o', 'r', ' ', 'J', 'o', 'e', 's')\n",
    "result_string = ''.join(char_tuple)"
   ]
  },
  {
   "cell_type": "code",
   "execution_count": 9,
   "id": "829f3563",
   "metadata": {},
   "outputs": [
    {
     "name": "stdout",
     "output_type": "stream",
     "text": [
      "String: Tutor Joes\n"
     ]
    }
   ],
   "source": [
    "print(\"String:\", result_string)"
   ]
  },
  {
   "cell_type": "markdown",
   "id": "5dab4bf2",
   "metadata": {},
   "source": [
    "Q7"
   ]
  },
  {
   "cell_type": "code",
   "execution_count": 10,
   "id": "bd355af1",
   "metadata": {},
   "outputs": [],
   "source": [
    "my_tuple = ('w', 3, 'r', 'e', 's', 'o', 'u', 'r', 'c', 'e')"
   ]
  },
  {
   "cell_type": "code",
   "execution_count": 11,
   "id": "7a3b2052",
   "metadata": {},
   "outputs": [],
   "source": [
    "fourth_element = my_tuple[3]\n",
    "fourth_from_last = my_tuple[-4]"
   ]
  },
  {
   "cell_type": "code",
   "execution_count": 12,
   "id": "0c1289af",
   "metadata": {},
   "outputs": [
    {
     "name": "stdout",
     "output_type": "stream",
     "text": [
      "4th Element From Tuple: e\n",
      "4th Element From Last Tuple: u\n"
     ]
    }
   ],
   "source": [
    "print(\"4th Element From Tuple:\", fourth_element)\n",
    "print(\"4th Element From Last Tuple:\", fourth_from_last)"
   ]
  },
  {
   "cell_type": "markdown",
   "id": "8287ee0c",
   "metadata": {},
   "source": [
    "Q8"
   ]
  },
  {
   "cell_type": "code",
   "execution_count": 13,
   "id": "9bd6db5a",
   "metadata": {},
   "outputs": [],
   "source": [
    "original_tuple = (\"Tutor\", \"J\", 23, 56.67, [23, 12], True)"
   ]
  },
  {
   "cell_type": "code",
   "execution_count": 14,
   "id": "80e5f761",
   "metadata": {},
   "outputs": [],
   "source": [
    "copied_tuple = original_tuple[:]"
   ]
  },
  {
   "cell_type": "code",
   "execution_count": 15,
   "id": "929196de",
   "metadata": {},
   "outputs": [
    {
     "name": "stdout",
     "output_type": "stream",
     "text": [
      "Original Tuple: ('Tutor', 'J', 23, 56.67, [23, 12], True)\n",
      "Copy = ('Tutor', 'J', 23, 56.67, [23, 12], True)\n"
     ]
    }
   ],
   "source": [
    "print(\"Original Tuple:\", original_tuple)\n",
    "print(\"Copy =\", copied_tuple)"
   ]
  },
  {
   "cell_type": "markdown",
   "id": "5d6906dc",
   "metadata": {},
   "source": [
    "Q9"
   ]
  },
  {
   "cell_type": "code",
   "execution_count": 16,
   "id": "7ba39ade",
   "metadata": {},
   "outputs": [],
   "source": [
    "numbers_tuple = (2, 34, 45, 6, 7, 2, 4, 5, 78, 34, 2)"
   ]
  },
  {
   "cell_type": "code",
   "execution_count": 17,
   "id": "39ea0ce7",
   "metadata": {},
   "outputs": [],
   "source": [
    "item = 2\n",
    "repeated_count = numbers_tuple.count(item)"
   ]
  },
  {
   "cell_type": "code",
   "execution_count": 18,
   "id": "c4c4e42a",
   "metadata": {},
   "outputs": [
    {
     "name": "stdout",
     "output_type": "stream",
     "text": [
      "Item = 2\n",
      "Repeated items of a tuple = 3\n"
     ]
    }
   ],
   "source": [
    "print(\"Item =\", item)\n",
    "print(\"Repeated items of a tuple =\", repeated_count)"
   ]
  },
  {
   "cell_type": "markdown",
   "id": "9d6dafd5",
   "metadata": {},
   "source": [
    "Q10"
   ]
  },
  {
   "cell_type": "code",
   "execution_count": 19,
   "id": "bea984d5",
   "metadata": {},
   "outputs": [],
   "source": [
    "elements_tuple = ('T', 'u', 't', 'o', 'r', ' ', 'J', 'o', 'e', 's', 8)"
   ]
  },
  {
   "cell_type": "code",
   "execution_count": 20,
   "id": "7318dbda",
   "metadata": {},
   "outputs": [],
   "source": [
    "element_8_present = 8 in elements_tuple\n",
    "element_x_present = 'x' in elements_tuple"
   ]
  },
  {
   "cell_type": "code",
   "execution_count": 21,
   "id": "6c25b484",
   "metadata": {},
   "outputs": [
    {
     "name": "stdout",
     "output_type": "stream",
     "text": [
      "8 in Tuple = True\n",
      "'x' in Tuple = False\n"
     ]
    }
   ],
   "source": [
    "print(\"8 in Tuple =\", element_8_present)\n",
    "print(\"'x' in Tuple =\", element_x_present)"
   ]
  },
  {
   "cell_type": "markdown",
   "id": "a7eb80b1",
   "metadata": {},
   "source": [
    "Q11"
   ]
  },
  {
   "cell_type": "code",
   "execution_count": 22,
   "id": "37f99372",
   "metadata": {},
   "outputs": [],
   "source": [
    "my_list = [12, 45, 87, 54, 89, 4]"
   ]
  },
  {
   "cell_type": "code",
   "execution_count": 23,
   "id": "e04c7505",
   "metadata": {},
   "outputs": [],
   "source": [
    "my_tuple = tuple(my_list)"
   ]
  },
  {
   "cell_type": "code",
   "execution_count": 24,
   "id": "55bcf02a",
   "metadata": {},
   "outputs": [
    {
     "name": "stdout",
     "output_type": "stream",
     "text": [
      "List: [12, 45, 87, 54, 89, 4]\n",
      "Tuple: (12, 45, 87, 54, 89, 4)\n"
     ]
    }
   ],
   "source": [
    "print(\"List:\", my_list)\n",
    "print(\"Tuple:\", my_tuple)"
   ]
  },
  {
   "cell_type": "markdown",
   "id": "64819699",
   "metadata": {},
   "source": [
    "Q12"
   ]
  },
  {
   "cell_type": "code",
   "execution_count": 25,
   "id": "0db26c74",
   "metadata": {},
   "outputs": [],
   "source": [
    "original_tuple = (23, 45, 56, 68, 10, 45, 7, 9)\n",
    "item_to_remove = 56"
   ]
  },
  {
   "cell_type": "code",
   "execution_count": 26,
   "id": "d14cec1b",
   "metadata": {},
   "outputs": [],
   "source": [
    "temp_list = list(original_tuple)\n",
    "temp_list.remove(item_to_remove)\n",
    "new_tuple = tuple(temp_list)"
   ]
  },
  {
   "cell_type": "code",
   "execution_count": 27,
   "id": "73de9e34",
   "metadata": {},
   "outputs": [
    {
     "name": "stdout",
     "output_type": "stream",
     "text": [
      "Original Tuple: (23, 45, 56, 68, 10, 45, 7, 9)\n",
      "New Tuple after removing 56 : (23, 45, 68, 10, 45, 7, 9)\n"
     ]
    }
   ],
   "source": [
    "print(\"Original Tuple:\", original_tuple)\n",
    "print(\"New Tuple after removing\", item_to_remove, \":\", new_tuple)"
   ]
  },
  {
   "cell_type": "markdown",
   "id": "fbf7c5c2",
   "metadata": {},
   "source": [
    "Q13"
   ]
  },
  {
   "cell_type": "code",
   "execution_count": 28,
   "id": "cb6b9906",
   "metadata": {},
   "outputs": [],
   "source": [
    "my_tuple = (10, 20, 30, 40, 50, 60, 70, 80, 90, 100)\n",
    "sliced_tuple = my_tuple[3:8]"
   ]
  },
  {
   "cell_type": "code",
   "execution_count": 29,
   "id": "d3b16111",
   "metadata": {},
   "outputs": [
    {
     "name": "stdout",
     "output_type": "stream",
     "text": [
      "Original Tuple: (10, 20, 30, 40, 50, 60, 70, 80, 90, 100)\n",
      "Sliced Tuple: (40, 50, 60, 70, 80)\n"
     ]
    }
   ],
   "source": [
    "print(\"Original Tuple:\", my_tuple)\n",
    "print(\"Sliced Tuple:\", sliced_tuple)"
   ]
  },
  {
   "cell_type": "markdown",
   "id": "f49d75de",
   "metadata": {},
   "source": [
    "Q14"
   ]
  },
  {
   "cell_type": "code",
   "execution_count": 30,
   "id": "453e4f86",
   "metadata": {},
   "outputs": [],
   "source": [
    "my_tuple = (23, 45, 67, 78, 89, 90, 34, 56)\n",
    "item = 78\n",
    "\n",
    "index_of_item = my_tuple.index(item)"
   ]
  },
  {
   "cell_type": "code",
   "execution_count": 31,
   "id": "3c333cb2",
   "metadata": {},
   "outputs": [
    {
     "name": "stdout",
     "output_type": "stream",
     "text": [
      "Item = 78\n",
      "Index Number: 3\n"
     ]
    }
   ],
   "source": [
    "print(\"Item =\", item)\n",
    "print(\"Index Number:\", index_of_item)"
   ]
  },
  {
   "cell_type": "markdown",
   "id": "2ccd063f",
   "metadata": {},
   "source": [
    "Q15"
   ]
  },
  {
   "cell_type": "code",
   "execution_count": 32,
   "id": "67a5400c",
   "metadata": {},
   "outputs": [],
   "source": [
    "animal_tuple = (\"Lion\", \"Cat\", \"Dog\", \"Panda\", \"Tiger\", \"Fox\")\n",
    "length_of_tuple = len(animal_tuple)"
   ]
  },
  {
   "cell_type": "code",
   "execution_count": 33,
   "id": "1b262f01",
   "metadata": {},
   "outputs": [
    {
     "name": "stdout",
     "output_type": "stream",
     "text": [
      "Tuple: ('Lion', 'Cat', 'Dog', 'Panda', 'Tiger', 'Fox')\n",
      "Length: 6\n"
     ]
    }
   ],
   "source": [
    "print(\"Tuple:\", animal_tuple)\n",
    "print(\"Length:\", length_of_tuple)"
   ]
  },
  {
   "cell_type": "markdown",
   "id": "4c371b64",
   "metadata": {},
   "source": [
    "Q16"
   ]
  },
  {
   "cell_type": "code",
   "execution_count": 34,
   "id": "2b4a3ad1",
   "metadata": {},
   "outputs": [],
   "source": [
    "my_tuples = ((\"Name\", \"Ram\"), (\"Age\", 23), (\"City\", \"Salem\"), (\"Mark\", 422))"
   ]
  },
  {
   "cell_type": "code",
   "execution_count": 35,
   "id": "44487b4f",
   "metadata": {},
   "outputs": [
    {
     "name": "stdout",
     "output_type": "stream",
     "text": [
      "Dictionary: {'Name': 'Ram', 'Age': 23, 'City': 'Salem', 'Mark': 422}\n"
     ]
    }
   ],
   "source": [
    "res_dictionary = dict(my_tuples)\n",
    "\n",
    "print(\"Dictionary:\", res_dictionary)"
   ]
  },
  {
   "cell_type": "markdown",
   "id": "396aa902",
   "metadata": {},
   "source": [
    "Q17"
   ]
  },
  {
   "cell_type": "code",
   "execution_count": 36,
   "id": "cecc681f",
   "metadata": {},
   "outputs": [
    {
     "name": "stdout",
     "output_type": "stream",
     "text": [
      "Individual Lists: [[10, 60, 20], [30, 90, 50]]\n"
     ]
    }
   ],
   "source": [
    "list_tuples = [(10, 30), (60, 90), (20, 50)]\n",
    "unzipped_lists = zip(*list_tuples)\n",
    "individual_lists = [list(t) for t in unzipped_lists]\n",
    "\n",
    "print(\"Individual Lists:\", individual_lists)"
   ]
  },
  {
   "cell_type": "markdown",
   "id": "06938ce9",
   "metadata": {},
   "source": [
    "Q18"
   ]
  },
  {
   "cell_type": "code",
   "execution_count": 37,
   "id": "5af48c35",
   "metadata": {},
   "outputs": [],
   "source": [
    "original_tuple = (23, 45, 67, 78, 89, 90, 34, 56)\n",
    "reversed_tuple = original_tuple[::-1]"
   ]
  },
  {
   "cell_type": "code",
   "execution_count": 38,
   "id": "15c51ed7",
   "metadata": {},
   "outputs": [
    {
     "name": "stdout",
     "output_type": "stream",
     "text": [
      "Before Reverse: (23, 45, 67, 78, 89, 90, 34, 56)\n",
      "After Reverse: (56, 34, 90, 89, 78, 67, 45, 23)\n"
     ]
    }
   ],
   "source": [
    "print(\"Before Reverse:\", original_tuple)\n",
    "print(\"After Reverse:\", reversed_tuple)"
   ]
  },
  {
   "cell_type": "markdown",
   "id": "c5e7521b",
   "metadata": {},
   "source": [
    "Q19"
   ]
  },
  {
   "cell_type": "code",
   "execution_count": 39,
   "id": "fbeb1d8f",
   "metadata": {},
   "outputs": [],
   "source": [
    "list_of_tuples = [(\"Name\", \"Ram\"), (\"Name\", \"Pooja\"), (\"Age\", 21), (\"Gender\", \"Male\"), (\"Age\", 23), (\"Gender\", \"Female\")]\n",
    "resulting_dictionary = {}"
   ]
  },
  {
   "cell_type": "code",
   "execution_count": 40,
   "id": "0d073cc4",
   "metadata": {},
   "outputs": [],
   "source": [
    "for key, value in list_of_tuples:\n",
    "    if key in resulting_dictionary:\n",
    "        resulting_dictionary[key].append(value)\n",
    "    else:\n",
    "        resulting_dictionary[key] = [value]"
   ]
  },
  {
   "cell_type": "code",
   "execution_count": 41,
   "id": "33e52f4f",
   "metadata": {},
   "outputs": [
    {
     "name": "stdout",
     "output_type": "stream",
     "text": [
      "Dictionary: {'Name': ['Ram', 'Pooja'], 'Age': [21, 23], 'Gender': ['Male', 'Female']}\n"
     ]
    }
   ],
   "source": [
    "print(\"Dictionary:\", resulting_dictionary)"
   ]
  },
  {
   "cell_type": "markdown",
   "id": "5ab533e2",
   "metadata": {},
   "source": [
    "Q20"
   ]
  },
  {
   "cell_type": "code",
   "execution_count": 42,
   "id": "525cdb75",
   "metadata": {},
   "outputs": [
    {
     "name": "stdout",
     "output_type": "stream",
     "text": [
      "Fruits ('watermelons', 'strawberries', 'mangoes', 'bananas', 'grapefruits', 'oranges', 'apples', 'pears')\n"
     ]
    }
   ],
   "source": [
    "fruits_tuple = (\"watermelons\", \"strawberries\", \"mangoes\", \"bananas\", \"grapefruits\", \"oranges\", \"apples\", \"pears\")\n",
    "print(\"Fruits {}\".format(fruits_tuple))"
   ]
  },
  {
   "cell_type": "markdown",
   "id": "979587d7",
   "metadata": {},
   "source": [
    "Q21"
   ]
  },
  {
   "cell_type": "code",
   "execution_count": 43,
   "id": "9ce08cf0",
   "metadata": {},
   "outputs": [],
   "source": [
    "single_item_tuple = (23,)"
   ]
  },
  {
   "cell_type": "code",
   "execution_count": 44,
   "id": "b6627174",
   "metadata": {},
   "outputs": [
    {
     "name": "stdout",
     "output_type": "stream",
     "text": [
      "Create a tuple with Item = 23\n",
      "Type = tuple\n"
     ]
    }
   ],
   "source": [
    "print(\"Create a tuple with Item =\", single_item_tuple[0])\n",
    "print(\"Type =\", type(single_item_tuple).__name__)"
   ]
  },
  {
   "cell_type": "markdown",
   "id": "9bbe1814",
   "metadata": {},
   "source": [
    "Q22"
   ]
  },
  {
   "cell_type": "code",
   "execution_count": 45,
   "id": "943f0892",
   "metadata": {},
   "outputs": [],
   "source": [
    "numbers_tuple = (11, 22, 333, 44, 55)\n",
    "a, b, c, d, e = numbers_tuple"
   ]
  },
  {
   "cell_type": "code",
   "execution_count": 46,
   "id": "7269e9ac",
   "metadata": {},
   "outputs": [
    {
     "name": "stdout",
     "output_type": "stream",
     "text": [
      "11\n",
      "22\n",
      "333\n",
      "44\n",
      "55\n"
     ]
    }
   ],
   "source": [
    "print(a)\n",
    "print(b)\n",
    "print(c)\n",
    "print(d)\n",
    "print(e)"
   ]
  },
  {
   "cell_type": "markdown",
   "id": "b16c492d",
   "metadata": {},
   "source": [
    "Q23"
   ]
  },
  {
   "cell_type": "code",
   "execution_count": 47,
   "id": "1e0ea3ca",
   "metadata": {},
   "outputs": [],
   "source": [
    "tuple_A = (10,)\n",
    "tuple_B = (20,)"
   ]
  },
  {
   "cell_type": "code",
   "execution_count": 48,
   "id": "9419827c",
   "metadata": {},
   "outputs": [
    {
     "name": "stdout",
     "output_type": "stream",
     "text": [
      "Before Swap A: 10\n",
      "Before Swap B: 20\n"
     ]
    }
   ],
   "source": [
    "print(\"Before Swap A:\", tuple_A[0])\n",
    "print(\"Before Swap B:\", tuple_B[0])"
   ]
  },
  {
   "cell_type": "code",
   "execution_count": 49,
   "id": "336bd797",
   "metadata": {},
   "outputs": [],
   "source": [
    "tuple_A, tuple_B = tuple_B, tuple_A"
   ]
  },
  {
   "cell_type": "code",
   "execution_count": 50,
   "id": "3064d919",
   "metadata": {},
   "outputs": [
    {
     "name": "stdout",
     "output_type": "stream",
     "text": [
      "After Swap A: 20\n",
      "After Swap B: 10\n"
     ]
    }
   ],
   "source": [
    "print(\"After Swap A:\", tuple_A[0])\n",
    "print(\"After Swap B:\", tuple_B[0])"
   ]
  },
  {
   "cell_type": "markdown",
   "id": "d2b0101d",
   "metadata": {},
   "source": [
    "Q24"
   ]
  },
  {
   "cell_type": "code",
   "execution_count": 51,
   "id": "0961132b",
   "metadata": {},
   "outputs": [],
   "source": [
    "original_tuple = (10, 20, 30, 40, 50, 60, 70, 80, 90, 100)\n",
    "new_tuple = original_tuple[2:8]"
   ]
  },
  {
   "cell_type": "code",
   "execution_count": 52,
   "id": "ec7cce04",
   "metadata": {},
   "outputs": [
    {
     "name": "stdout",
     "output_type": "stream",
     "text": [
      "Original Tuple: (10, 20, 30, 40, 50, 60, 70, 80, 90, 100)\n",
      "New Tuple: (30, 40, 50, 60, 70, 80)\n"
     ]
    }
   ],
   "source": [
    "print(\"Original Tuple:\", original_tuple)\n",
    "print(\"New Tuple:\", new_tuple)"
   ]
  },
  {
   "cell_type": "markdown",
   "id": "39627964",
   "metadata": {},
   "source": [
    "Q25"
   ]
  },
  {
   "cell_type": "code",
   "execution_count": 53,
   "id": "f445f501",
   "metadata": {},
   "outputs": [],
   "source": [
    "original_tuple = (10, 20, 30, 40, 50)\n",
    "\n",
    "list_version = list(original_tuple)\n",
    "list_version[2] = 33\n",
    "modified_tuple = tuple(list_version)"
   ]
  },
  {
   "cell_type": "code",
   "execution_count": 54,
   "id": "6d1e1fd5",
   "metadata": {},
   "outputs": [
    {
     "name": "stdout",
     "output_type": "stream",
     "text": [
      "Original Tuple: (10, 20, 30, 40, 50)\n",
      "Modified Tuple: (10, 20, 33, 40, 50)\n"
     ]
    }
   ],
   "source": [
    "print(\"Original Tuple:\", original_tuple)\n",
    "print(\"Modified Tuple:\", modified_tuple)"
   ]
  },
  {
   "cell_type": "markdown",
   "id": "5d182e34",
   "metadata": {},
   "source": [
    "Q26"
   ]
  },
  {
   "cell_type": "code",
   "execution_count": 55,
   "id": "a4f03ab1",
   "metadata": {},
   "outputs": [],
   "source": [
    "tuple_of_tuples = (('a', 53), ('b', 37), ('c', 23), ('d', 1), ('e', 18))\n",
    "sorted_tuple = tuple(sorted(tuple_of_tuples, key=lambda x: x[1]))"
   ]
  },
  {
   "cell_type": "code",
   "execution_count": 56,
   "id": "d0bc7b5b",
   "metadata": {},
   "outputs": [
    {
     "name": "stdout",
     "output_type": "stream",
     "text": [
      "Original Tuple: (('a', 53), ('b', 37), ('c', 23), ('d', 1), ('e', 18))\n",
      "Sorted Tuple: (('d', 1), ('e', 18), ('c', 23), ('b', 37), ('a', 53))\n"
     ]
    }
   ],
   "source": [
    "print(\"Original Tuple:\", tuple_of_tuples)\n",
    "print(\"Sorted Tuple:\", sorted_tuple)"
   ]
  },
  {
   "cell_type": "markdown",
   "id": "d44937f6",
   "metadata": {},
   "source": [
    "Q27"
   ]
  },
  {
   "cell_type": "code",
   "execution_count": 57,
   "id": "1148f32b",
   "metadata": {},
   "outputs": [],
   "source": [
    "numbers_tuple = (30, 50, 10, 30, 70, 50, 30)\n",
    "count_30 = numbers_tuple.count(30)"
   ]
  },
  {
   "cell_type": "code",
   "execution_count": 58,
   "id": "689c1711",
   "metadata": {},
   "outputs": [
    {
     "name": "stdout",
     "output_type": "stream",
     "text": [
      "Tuple: (30, 50, 10, 30, 70, 50, 30)\n",
      "Number of Counts 30: 3\n"
     ]
    }
   ],
   "source": [
    "print(\"Tuple:\", numbers_tuple)\n",
    "print(\"Number of Counts 30:\", count_30)"
   ]
  },
  {
   "cell_type": "markdown",
   "id": "c352cdac",
   "metadata": {},
   "source": [
    "Q28"
   ]
  },
  {
   "cell_type": "code",
   "execution_count": 59,
   "id": "fd7ff43c",
   "metadata": {},
   "outputs": [],
   "source": [
    "A = (2, 5, 8)\n",
    "B = (6, 5, 1)\n",
    "C = (1, 4, 7)\n",
    "D = (3, 7, 2)\n",
    "\n",
    "sum_of_elements = tuple(map(sum, zip(A, B, C, D)))"
   ]
  },
  {
   "cell_type": "code",
   "execution_count": 60,
   "id": "6caccbb7",
   "metadata": {},
   "outputs": [
    {
     "name": "stdout",
     "output_type": "stream",
     "text": [
      "A = (2, 5, 8)\n",
      "B = (6, 5, 1)\n",
      "C = (1, 4, 7)\n",
      "D = (3, 7, 2)\n",
      "Sum of Elements = (12, 21, 18)\n"
     ]
    }
   ],
   "source": [
    "print(\"A =\", A)\n",
    "print(\"B =\", B)\n",
    "print(\"C =\", C)\n",
    "print(\"D =\", D)\n",
    "print(\"Sum of Elements =\", sum_of_elements)"
   ]
  },
  {
   "cell_type": "markdown",
   "id": "93fa0729",
   "metadata": {},
   "source": [
    "Q29"
   ]
  },
  {
   "cell_type": "code",
   "execution_count": 61,
   "id": "4faeb038",
   "metadata": {},
   "outputs": [],
   "source": [
    "tuples_list = [('Ram', 89.20), ('Siva', 76.45), ('Pooja', 84.40), ('Tara', 68.43), ('Jeeva', 91.40)]\n",
    "sorted_tuples = sorted(tuples_list, key=lambda x: x[1])"
   ]
  },
  {
   "cell_type": "code",
   "execution_count": 62,
   "id": "8f7ea40b",
   "metadata": {},
   "outputs": [
    {
     "name": "stdout",
     "output_type": "stream",
     "text": [
      "Original List: [('Ram', 89.2), ('Siva', 76.45), ('Pooja', 84.4), ('Tara', 68.43), ('Jeeva', 91.4)]\n",
      "Sorted List: [('Tara', 68.43), ('Siva', 76.45), ('Pooja', 84.4), ('Ram', 89.2), ('Jeeva', 91.4)]\n"
     ]
    }
   ],
   "source": [
    "print(\"Original List:\", tuples_list)\n",
    "print(\"Sorted List:\", sorted_tuples)"
   ]
  },
  {
   "cell_type": "markdown",
   "id": "81b56f47",
   "metadata": {},
   "source": [
    "Q30"
   ]
  },
  {
   "cell_type": "code",
   "execution_count": 63,
   "id": "2bb4ba19",
   "metadata": {},
   "outputs": [],
   "source": [
    "tuples_list = [(5, 2, 3), (4, 7, 6), (8, 9, 6)]\n",
    "replace_value = 10\n",
    "modified_tuples = [tuple(list(t[:-1]) + [replace_value]) for t in tuples_list]"
   ]
  },
  {
   "cell_type": "code",
   "execution_count": 64,
   "id": "c532a10f",
   "metadata": {},
   "outputs": [
    {
     "name": "stdout",
     "output_type": "stream",
     "text": [
      "Original List of Tuples: [(5, 2, 3), (4, 7, 6), (8, 9, 6)]\n",
      "Modified List of Tuples: [(5, 2, 10), (4, 7, 10), (8, 9, 10)]\n"
     ]
    }
   ],
   "source": [
    "print(\"Original List of Tuples:\", tuples_list)\n",
    "print(\"Modified List of Tuples:\", modified_tuples)"
   ]
  },
  {
   "cell_type": "markdown",
   "id": "5627515b",
   "metadata": {},
   "source": [
    "Q31"
   ]
  },
  {
   "cell_type": "code",
   "execution_count": 65,
   "id": "438549fd",
   "metadata": {},
   "outputs": [],
   "source": [
    "list_of_tuples = [(47, 23), (3, 78), (22, 53), (121, 45), (7,)]"
   ]
  },
  {
   "cell_type": "code",
   "execution_count": 66,
   "id": "de052f13",
   "metadata": {},
   "outputs": [],
   "source": [
    "K = 2\n",
    "\n",
    "def has_k_digits(t, k):\n",
    "    return all(len(str(abs(num))) == k for num in t)"
   ]
  },
  {
   "cell_type": "code",
   "execution_count": 67,
   "id": "2a9ead2b",
   "metadata": {},
   "outputs": [
    {
     "name": "stdout",
     "output_type": "stream",
     "text": [
      "Original List of Tuples: [(47, 23), (3, 78), (22, 53), (121, 45), (7,)]\n",
      "Extracted Tuples with 2 digit elements: [(47, 23), (22, 53)]\n"
     ]
    }
   ],
   "source": [
    "extracted_tuples = [t for t in list_of_tuples if has_k_digits(t, K)]\n",
    "\n",
    "print(\"Original List of Tuples:\", list_of_tuples)\n",
    "print(\"Extracted Tuples with\", K, \"digit elements:\", extracted_tuples)"
   ]
  },
  {
   "cell_type": "markdown",
   "id": "65d1a2c2",
   "metadata": {},
   "source": [
    "Q32"
   ]
  },
  {
   "cell_type": "code",
   "execution_count": 68,
   "id": "0ac49866",
   "metadata": {},
   "outputs": [],
   "source": [
    "list_of_tuples = [(18, 23), (2, 9), (7, 6), (9, 2), (10, 2), (23, 18)]\n",
    "\n",
    "seen = set()\n",
    "symmetric_tuples = set()"
   ]
  },
  {
   "cell_type": "code",
   "execution_count": 69,
   "id": "916c62d2",
   "metadata": {},
   "outputs": [],
   "source": [
    "for tup in list_of_tuples:\n",
    "    reverse_tup = tuple(reversed(tup))\n",
    "    if reverse_tup in seen:\n",
    "        symmetric_tuples.add(tup)\n",
    "        symmetric_tuples.add(reverse_tup)\n",
    "    seen.add(tup)"
   ]
  },
  {
   "cell_type": "code",
   "execution_count": 70,
   "id": "1f48a42b",
   "metadata": {},
   "outputs": [
    {
     "name": "stdout",
     "output_type": "stream",
     "text": [
      "Original List of Tuples: [(18, 23), (2, 9), (7, 6), (9, 2), (10, 2), (23, 18)]\n",
      "Symmetric Tuples: {(2, 9), (23, 18), (9, 2), (18, 23)}\n"
     ]
    }
   ],
   "source": [
    "print(\"Original List of Tuples:\", list_of_tuples)\n",
    "print(\"Symmetric Tuples:\", symmetric_tuples)"
   ]
  },
  {
   "cell_type": "markdown",
   "id": "c555c406",
   "metadata": {},
   "source": [
    "Q33"
   ]
  },
  {
   "cell_type": "code",
   "execution_count": 71,
   "id": "4167fad1",
   "metadata": {},
   "outputs": [],
   "source": [
    "list_of_tuples = [(4, 5, 5, 7), (1, 3, 7, 4), (19, 4, 5, 3), (1, 2)]\n",
    "sorted_tuples = sorted(list_of_tuples, key=max)"
   ]
  },
  {
   "cell_type": "code",
   "execution_count": 72,
   "id": "ca6dd625",
   "metadata": {},
   "outputs": [
    {
     "name": "stdout",
     "output_type": "stream",
     "text": [
      "Original List of Tuples: [(4, 5, 5, 7), (1, 3, 7, 4), (19, 4, 5, 3), (1, 2)]\n",
      "Sorted List of Tuples: [(1, 2), (4, 5, 5, 7), (1, 3, 7, 4), (19, 4, 5, 3)]\n"
     ]
    }
   ],
   "source": [
    "print(\"Original List of Tuples:\", list_of_tuples)\n",
    "print(\"Sorted List of Tuples:\", sorted_tuples)"
   ]
  },
  {
   "cell_type": "markdown",
   "id": "3a170345",
   "metadata": {},
   "source": [
    "Q34"
   ]
  },
  {
   "cell_type": "code",
   "execution_count": 73,
   "id": "68858e2a",
   "metadata": {},
   "outputs": [],
   "source": [
    "original_tuple = (10, 20, (30,), 40, (50, 60), 70)\n",
    "filtered_tuple = tuple(x for x in original_tuple if not isinstance(x, tuple))"
   ]
  },
  {
   "cell_type": "code",
   "execution_count": 74,
   "id": "951ed5fa",
   "metadata": {},
   "outputs": [
    {
     "name": "stdout",
     "output_type": "stream",
     "text": [
      "Original Tuple: (10, 20, (30,), 40, (50, 60), 70)\n",
      "Removal of Nested Tuple: (10, 20, 40, 70)\n"
     ]
    }
   ],
   "source": [
    "print(\"Original Tuple:\", original_tuple)\n",
    "print(\"Removal of Nested Tuple:\", filtered_tuple)"
   ]
  },
  {
   "cell_type": "markdown",
   "id": "fa5b206a",
   "metadata": {},
   "source": [
    "Q35"
   ]
  },
  {
   "cell_type": "code",
   "execution_count": 75,
   "id": "a47821cf",
   "metadata": {},
   "outputs": [],
   "source": [
    "nested_tuple = (10, 20, (20, 10), 30, (40, 50, 60), 60, 70)"
   ]
  },
  {
   "cell_type": "code",
   "execution_count": 76,
   "id": "9cf9229f",
   "metadata": {},
   "outputs": [],
   "source": [
    "def flatten_tuple(t):\n",
    "    for item in t:\n",
    "        if isinstance(item, tuple):\n",
    "            yield from flatten_tuple(item)\n",
    "        else:\n",
    "            yield item"
   ]
  },
  {
   "cell_type": "code",
   "execution_count": 77,
   "id": "ecc220bc",
   "metadata": {},
   "outputs": [],
   "source": [
    "flat_list = list(flatten_tuple(nested_tuple))"
   ]
  },
  {
   "cell_type": "code",
   "execution_count": 78,
   "id": "46cef6e3",
   "metadata": {},
   "outputs": [],
   "source": [
    "frequency = {}\n",
    "for item in flat_list:\n",
    "    if item in frequency:\n",
    "        frequency[item] += 1\n",
    "    else:\n",
    "        frequency[item] = 1"
   ]
  },
  {
   "cell_type": "code",
   "execution_count": 79,
   "id": "faa998a5",
   "metadata": {},
   "outputs": [
    {
     "name": "stdout",
     "output_type": "stream",
     "text": [
      "Original Tuple: (10, 20, (20, 10), 30, (40, 50, 60), 60, 70)\n",
      "Elements Frequency: {10: 2, 20: 2, 30: 1, 40: 1, 50: 1, 60: 2, 70: 1}\n"
     ]
    }
   ],
   "source": [
    "print(\"Original Tuple:\", nested_tuple)\n",
    "print(\"Elements Frequency:\", frequency)"
   ]
  },
  {
   "cell_type": "markdown",
   "id": "8ca5086a",
   "metadata": {},
   "source": [
    "Q36"
   ]
  },
  {
   "cell_type": "code",
   "execution_count": 80,
   "id": "5888a045",
   "metadata": {},
   "outputs": [],
   "source": [
    "nested_tuples = ((1, 3, 5), (4, 5, 7), (1, 2, 6), (10, 9), (10,))"
   ]
  },
  {
   "cell_type": "code",
   "execution_count": 81,
   "id": "63b1b793",
   "metadata": {},
   "outputs": [],
   "source": [
    "def flatten(iterable):\n",
    "    for element in iterable:\n",
    "        if isinstance(element, tuple):\n",
    "            yield from flatten(element)\n",
    "        else:\n",
    "            yield element"
   ]
  },
  {
   "cell_type": "code",
   "execution_count": 82,
   "id": "5edacedf",
   "metadata": {},
   "outputs": [],
   "source": [
    "unique_elements = set(flatten(nested_tuples))"
   ]
  },
  {
   "cell_type": "code",
   "execution_count": 83,
   "id": "fcf5d100",
   "metadata": {},
   "outputs": [
    {
     "name": "stdout",
     "output_type": "stream",
     "text": [
      "Original Nested Tuples: ((1, 3, 5), (4, 5, 7), (1, 2, 6), (10, 9), (10,))\n",
      "Unique Element in Nested Tuples: [1, 2, 3, 4, 5, 6, 7, 9, 10]\n"
     ]
    }
   ],
   "source": [
    "print(\"Original Nested Tuples:\", nested_tuples)\n",
    "print(\"Unique Element in Nested Tuples:\", sorted(unique_elements))"
   ]
  },
  {
   "cell_type": "markdown",
   "id": "27ef03e1",
   "metadata": {},
   "source": [
    "Q37"
   ]
  },
  {
   "cell_type": "code",
   "execution_count": 84,
   "id": "e4c49045",
   "metadata": {},
   "outputs": [],
   "source": [
    "tuple1 = (18, 23, 2, 9)\n",
    "tuple2 = (10, 3, 11)\n",
    "\n",
    "concatenated_tuple = (tuple1, tuple2)"
   ]
  },
  {
   "cell_type": "code",
   "execution_count": 85,
   "id": "e1c12c88",
   "metadata": {},
   "outputs": [
    {
     "name": "stdout",
     "output_type": "stream",
     "text": [
      "Tuple 1: (18, 23, 2, 9)\n",
      "Tuple 2: (10, 3, 11)\n",
      "Tuples after Concatenating: ((18, 23, 2, 9), (10, 3, 11))\n"
     ]
    }
   ],
   "source": [
    "print(\"Tuple 1:\", tuple1)\n",
    "print(\"Tuple 2:\", tuple2)\n",
    "print(\"Tuples after Concatenating:\", concatenated_tuple)"
   ]
  },
  {
   "cell_type": "markdown",
   "id": "01a59a00",
   "metadata": {},
   "source": [
    "Q38"
   ]
  },
  {
   "cell_type": "code",
   "execution_count": 86,
   "id": "d00ee82a",
   "metadata": {},
   "outputs": [],
   "source": [
    "tuples_list = [(2, 7), (3, 7), (2, 5), (8, 7), (6, 5), (9, 8)]"
   ]
  },
  {
   "cell_type": "code",
   "execution_count": 87,
   "id": "818d2f0f",
   "metadata": {},
   "outputs": [],
   "source": [
    "frequency = {}\n",
    "for _, second in tuples_list:\n",
    "    if second in frequency:\n",
    "        frequency[second] += 1\n",
    "    else:\n",
    "        frequency[second] = 1"
   ]
  },
  {
   "cell_type": "code",
   "execution_count": 88,
   "id": "1848d39a",
   "metadata": {},
   "outputs": [
    {
     "name": "stdout",
     "output_type": "stream",
     "text": [
      "Original List of tuples: [(2, 7), (3, 7), (2, 5), (8, 7), (6, 5), (9, 8)]\n",
      "Sorted List of tuples: [(9, 8), (2, 5), (6, 5), (2, 7), (3, 7), (8, 7)]\n"
     ]
    }
   ],
   "source": [
    "sorted_tuples = sorted(tuples_list, key=lambda x: frequency[x[1]])\n",
    "\n",
    "print(\"Original List of tuples:\", tuples_list)\n",
    "print(\"Sorted List of tuples:\", sorted_tuples)"
   ]
  },
  {
   "cell_type": "markdown",
   "id": "c55442f6",
   "metadata": {},
   "source": [
    "Q39"
   ]
  },
  {
   "cell_type": "code",
   "execution_count": 89,
   "id": "cdb2a726",
   "metadata": {},
   "outputs": [
    {
     "name": "stdout",
     "output_type": "stream",
     "text": [
      "Original Tuple: ([10, 50, 60], [80, 20, 30], [70, 100, 40], [90])\n",
      "Tuple after sorting list: ([10, 50, 60], [20, 30, 80], [40, 70, 100], [90])\n"
     ]
    }
   ],
   "source": [
    "lists_in_tuple = ([10, 50, 60], [80, 20, 30], [70, 100, 40], [90,])\n",
    "sorted_lists_in_tuple = tuple(sorted(lst) for lst in lists_in_tuple)\n",
    "\n",
    "print(\"Original Tuple:\", lists_in_tuple)\n",
    "print(\"Tuple after sorting list:\", sorted_lists_in_tuple)"
   ]
  },
  {
   "cell_type": "markdown",
   "id": "76d86646",
   "metadata": {},
   "source": [
    "Q40"
   ]
  },
  {
   "cell_type": "code",
   "execution_count": 90,
   "id": "4db78043",
   "metadata": {},
   "outputs": [],
   "source": [
    "tuples_list = [('B', 68), ('D', 70), ('A', 67), ('C', 69)]\n",
    "order_list = ['A', 'B', 'C', 'D']"
   ]
  },
  {
   "cell_type": "code",
   "execution_count": 91,
   "id": "a256c620",
   "metadata": {},
   "outputs": [
    {
     "name": "stdout",
     "output_type": "stream",
     "text": [
      "Original Tuple List: [('B', 68), ('D', 70), ('A', 67), ('C', 69)]\n",
      "Ordered Tuple List: [('A', 67), ('B', 68), ('C', 69), ('D', 70)]\n"
     ]
    }
   ],
   "source": [
    "ordered_tuples_list = sorted(tuples_list, key=lambda x: order_list.index(x[0]))\n",
    "\n",
    "print(\"Original Tuple List:\", tuples_list)\n",
    "print(\"Ordered Tuple List:\", ordered_tuples_list)"
   ]
  },
  {
   "cell_type": "markdown",
   "id": "a555846d",
   "metadata": {},
   "source": [
    "Q41"
   ]
  },
  {
   "cell_type": "code",
   "execution_count": 92,
   "id": "00aa95d5",
   "metadata": {},
   "outputs": [],
   "source": [
    "tuples_list = [('B', 68), ('D', 70), ('A', 67), ('C', 69)]"
   ]
  },
  {
   "cell_type": "code",
   "execution_count": 93,
   "id": "5f9ab4e6",
   "metadata": {},
   "outputs": [],
   "source": [
    "kth_elements_to_filter = [67, 70, 71, 75]\n",
    "kth_element_index = 1"
   ]
  },
  {
   "cell_type": "code",
   "execution_count": 94,
   "id": "e31cda17",
   "metadata": {},
   "outputs": [
    {
     "name": "stdout",
     "output_type": "stream",
     "text": [
      "Original Tuple List: [('B', 68), ('D', 70), ('A', 67), ('C', 69)]\n",
      "Filtered tuples: [('D', 70), ('A', 67)]\n"
     ]
    }
   ],
   "source": [
    "filtered_tuples = [tup for tup in tuples_list if tup[kth_element_index] in kth_elements_to_filter]\n",
    "\n",
    "print(\"Original Tuple List:\", tuples_list)\n",
    "print(\"Filtered tuples:\", filtered_tuples)"
   ]
  },
  {
   "cell_type": "markdown",
   "id": "cbf1a8db",
   "metadata": {},
   "source": [
    "Q42"
   ]
  },
  {
   "cell_type": "code",
   "execution_count": 95,
   "id": "ca7ad536",
   "metadata": {},
   "outputs": [],
   "source": [
    "tuples_list = [(23, 18), (9, 2), (2, 3), (9, 18), (23, 2)]\n",
    "\n",
    "given_tuple = (20, 2)\n",
    "kth_element_index = 1"
   ]
  },
  {
   "cell_type": "code",
   "execution_count": 96,
   "id": "29ad8b08",
   "metadata": {},
   "outputs": [
    {
     "name": "stdout",
     "output_type": "stream",
     "text": [
      "Given Tuple: (20, 2)\n",
      "Kth Element Index: 1\n",
      "Nearest Tuple: (9, 2)\n"
     ]
    }
   ],
   "source": [
    "nearest_tuple = min(tuples_list, key=lambda x: abs(x[kth_element_index] - given_tuple[kth_element_index]))\n",
    "\n",
    "print(\"Given Tuple:\", given_tuple)\n",
    "print(\"Kth Element Index:\", kth_element_index)\n",
    "print(\"Nearest Tuple:\", nearest_tuple)"
   ]
  },
  {
   "cell_type": "markdown",
   "id": "97d1e1a7",
   "metadata": {},
   "source": [
    "Q43"
   ]
  },
  {
   "cell_type": "code",
   "execution_count": 97,
   "id": "a70b635e",
   "metadata": {},
   "outputs": [],
   "source": [
    "list_1 = [(3, 4), (5, 6), (9, 10), (4, 5)]\n",
    "list_2 = [(5, 4), (3, 4), (6, 5), (9, 11)]\n",
    "\n",
    "set_1 = {frozenset(t) for t in list_1}\n",
    "set_2 = {frozenset(t) for t in list_2}"
   ]
  },
  {
   "cell_type": "code",
   "execution_count": 98,
   "id": "017b5384",
   "metadata": {},
   "outputs": [],
   "source": [
    "intersection = set_1.intersection(set_2)\n",
    "result = {tuple(s) for s in intersection}"
   ]
  },
  {
   "cell_type": "code",
   "execution_count": 99,
   "id": "c7564c88",
   "metadata": {},
   "outputs": [
    {
     "name": "stdout",
     "output_type": "stream",
     "text": [
      "List 1: [(3, 4), (5, 6), (9, 10), (4, 5)]\n",
      "List 2: [(5, 4), (3, 4), (6, 5), (9, 11)]\n",
      "Intersection:  {(4, 5), (5, 6), (3, 4)}\n"
     ]
    }
   ],
   "source": [
    "print(\"List 1:\", list_1)\n",
    "print(\"List 2:\", list_2)\n",
    "print(\"Intersection: \", result)"
   ]
  },
  {
   "cell_type": "markdown",
   "id": "3396536f",
   "metadata": {},
   "source": [
    "Q44"
   ]
  },
  {
   "cell_type": "code",
   "execution_count": 100,
   "id": "0b5eb782",
   "metadata": {},
   "outputs": [],
   "source": [
    "list_1 = [('A', 65), ('D', 68), ('B', 66)]\n",
    "list_2 = [('D', 68), ('C', 67), ('A', 65)]\n",
    "\n",
    "set_1 = set(list_1)\n",
    "set_2 = set(list_2)"
   ]
  },
  {
   "cell_type": "code",
   "execution_count": 101,
   "id": "405b6fe2",
   "metadata": {},
   "outputs": [
    {
     "name": "stdout",
     "output_type": "stream",
     "text": [
      "list 1: [('A', 65), ('D', 68), ('B', 66)]\n",
      "list 2: [('D', 68), ('C', 67), ('A', 65)]\n",
      "Intersection of data records: [('D', 68), ('A', 65)]\n"
     ]
    }
   ],
   "source": [
    "intersection = set_1.intersection(set_2)\n",
    "intersection_list = list(intersection)\n",
    "\n",
    "print(\"list 1:\", list_1)\n",
    "print(\"list 2:\", list_2)\n",
    "print(\"Intersection of data records:\", intersection_list)"
   ]
  },
  {
   "cell_type": "markdown",
   "id": "44833e61",
   "metadata": {},
   "source": [
    "Q45"
   ]
  },
  {
   "cell_type": "code",
   "execution_count": 102,
   "id": "f48975eb",
   "metadata": {},
   "outputs": [],
   "source": [
    "tuples_list = [(3, 4), (1, 2), (4, 3), (5, 6)]\n",
    "\n",
    "frozensets_list = [frozenset(t) for t in tuples_list]"
   ]
  },
  {
   "cell_type": "code",
   "execution_count": 103,
   "id": "cbeca599",
   "metadata": {},
   "outputs": [],
   "source": [
    "frequency_dict = {}\n",
    "for fs in frozensets_list:\n",
    "    if fs in frequency_dict:\n",
    "        frequency_dict[fs] += 1\n",
    "    else:\n",
    "        frequency_dict[fs] = 1"
   ]
  },
  {
   "cell_type": "code",
   "execution_count": 104,
   "id": "3385c534",
   "metadata": {},
   "outputs": [
    {
     "name": "stdout",
     "output_type": "stream",
     "text": [
      "Original List of Tuples: [(3, 4), (1, 2), (4, 3), (5, 6)]\n",
      "Unique Tuples Frequency: [(3, 4), (1, 2), (5, 6)]\n",
      "Unique Tuples Frequency Count: 3\n"
     ]
    }
   ],
   "source": [
    "unique_tuples = [tuple(fs) for fs in frequency_dict]\n",
    "\n",
    "print(\"Original List of Tuples:\", tuples_list)\n",
    "print(\"Unique Tuples Frequency:\", unique_tuples)\n",
    "print(\"Unique Tuples Frequency Count:\", len(unique_tuples))"
   ]
  },
  {
   "cell_type": "markdown",
   "id": "f3dcac5b",
   "metadata": {},
   "source": [
    "Q46"
   ]
  },
  {
   "cell_type": "code",
   "execution_count": 105,
   "id": "1db40e14",
   "metadata": {},
   "outputs": [],
   "source": [
    "skew_nested_tuple = (1, (2, (3, (4, (5, None)))))"
   ]
  },
  {
   "cell_type": "code",
   "execution_count": 106,
   "id": "a9703ea5",
   "metadata": {},
   "outputs": [],
   "source": [
    "def sum_first_elements(nested_tuple):\n",
    "    current_tuple = nested_tuple\n",
    "    total_sum = 0\n",
    "    while isinstance(current_tuple, tuple):\n",
    "        total_sum += current_tuple[0]\n",
    "        current_tuple = current_tuple[1]\n",
    "    return total_sum"
   ]
  },
  {
   "cell_type": "code",
   "execution_count": 107,
   "id": "7ef33bda",
   "metadata": {},
   "outputs": [
    {
     "name": "stdout",
     "output_type": "stream",
     "text": [
      "Summation of 1st positions: 15\n"
     ]
    }
   ],
   "source": [
    "first_position_sum = sum_first_elements(skew_nested_tuple)\n",
    "\n",
    "print(\"Summation of 1st positions:\", first_position_sum)"
   ]
  },
  {
   "cell_type": "markdown",
   "id": "8f17a084",
   "metadata": {},
   "source": [
    "Q47"
   ]
  },
  {
   "cell_type": "code",
   "execution_count": 108,
   "id": "26bda57a",
   "metadata": {},
   "outputs": [],
   "source": [
    "binary_tuple = (1, 0, 1, 0)"
   ]
  },
  {
   "cell_type": "code",
   "execution_count": 109,
   "id": "fd401da4",
   "metadata": {},
   "outputs": [
    {
     "name": "stdout",
     "output_type": "stream",
     "text": [
      "Binary tuple: (1, 0, 1, 0)\n",
      "Decimal number is: 10\n"
     ]
    }
   ],
   "source": [
    "binary_string = ''.join(str(bit) for bit in binary_tuple)\n",
    "decimal_number = int(binary_string, 2)\n",
    "\n",
    "print(\"Binary tuple:\", binary_tuple)\n",
    "print(\"Decimal number is:\", decimal_number)"
   ]
  },
  {
   "cell_type": "markdown",
   "id": "880e85de",
   "metadata": {},
   "source": [
    "Q48"
   ]
  },
  {
   "cell_type": "code",
   "execution_count": 110,
   "id": "48a34c21",
   "metadata": {},
   "outputs": [],
   "source": [
    "tuple_1 = (10, 4, 6, 9)\n",
    "tuple_2 = (5, 2, 3, 3)\n",
    "\n",
    "xor_tuple = tuple(a ^ b for a, b in zip(tuple_1, tuple_2))"
   ]
  },
  {
   "cell_type": "code",
   "execution_count": 111,
   "id": "8742982e",
   "metadata": {},
   "outputs": [
    {
     "name": "stdout",
     "output_type": "stream",
     "text": [
      "Tuple 1: (10, 4, 6, 9)\n",
      "Tuple 2: (5, 2, 3, 3)\n",
      "XOR tuple: (15, 6, 5, 10)\n"
     ]
    }
   ],
   "source": [
    "print(\"Tuple 1:\", tuple_1)\n",
    "print(\"Tuple 2:\", tuple_2)\n",
    "print(\"XOR tuple:\", xor_tuple)"
   ]
  },
  {
   "cell_type": "markdown",
   "id": "568812d8",
   "metadata": {},
   "source": [
    "Q49"
   ]
  },
  {
   "cell_type": "code",
   "execution_count": 112,
   "id": "e865dd64",
   "metadata": {},
   "outputs": [],
   "source": [
    "tuple_1 = (10, 4, 6, 9)\n",
    "tuple_2 = (5, 2, 3, 3)\n",
    "\n",
    "and_tuple = tuple(a & b for a, b in zip(tuple_1, tuple_2))"
   ]
  },
  {
   "cell_type": "code",
   "execution_count": 113,
   "id": "a03b0d82",
   "metadata": {},
   "outputs": [
    {
     "name": "stdout",
     "output_type": "stream",
     "text": [
      "Tuple 1: (10, 4, 6, 9)\n",
      "Tuple 2: (5, 2, 3, 3)\n",
      "AND operation Between Tuple: (0, 0, 2, 1)\n"
     ]
    }
   ],
   "source": [
    "print(\"Tuple 1:\", tuple_1)\n",
    "print(\"Tuple 2:\", tuple_2)\n",
    "print(\"AND operation Between Tuple:\", and_tuple)"
   ]
  },
  {
   "cell_type": "markdown",
   "id": "f48ba125",
   "metadata": {},
   "source": [
    "Q50"
   ]
  },
  {
   "cell_type": "code",
   "execution_count": 114,
   "id": "ebdd49b1",
   "metadata": {},
   "outputs": [],
   "source": [
    "tuple_1 = (10, 4, 6, 9)\n",
    "tuple_2 = (5, 2, 3, 3)\n",
    "\n",
    "elementwise_and_tuple = tuple(a & b for a, b in zip(tuple_1, tuple_2))"
   ]
  },
  {
   "cell_type": "code",
   "execution_count": 115,
   "id": "55540488",
   "metadata": {},
   "outputs": [
    {
     "name": "stdout",
     "output_type": "stream",
     "text": [
      "Tuple 1: (10, 4, 6, 9)\n",
      "Tuple 2: (5, 2, 3, 3)\n",
      "Elementwise AND Tuple: (0, 0, 2, 1)\n"
     ]
    }
   ],
   "source": [
    "print(\"Tuple 1:\", tuple_1)\n",
    "print(\"Tuple 2:\", tuple_2)\n",
    "print(\"Elementwise AND Tuple:\", elementwise_and_tuple)"
   ]
  }
 ],
 "metadata": {
  "kernelspec": {
   "display_name": "Python 3 (ipykernel)",
   "language": "python",
   "name": "python3"
  },
  "language_info": {
   "codemirror_mode": {
    "name": "ipython",
    "version": 3
   },
   "file_extension": ".py",
   "mimetype": "text/x-python",
   "name": "python",
   "nbconvert_exporter": "python",
   "pygments_lexer": "ipython3",
   "version": "3.11.4"
  }
 },
 "nbformat": 4,
 "nbformat_minor": 5
}
